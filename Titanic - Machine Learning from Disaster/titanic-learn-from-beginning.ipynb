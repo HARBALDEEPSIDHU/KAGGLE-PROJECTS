{
 "cells": [
  {
   "cell_type": "markdown",
   "id": "3a20e20a",
   "metadata": {
    "papermill": {
     "duration": 0.02114,
     "end_time": "2022-09-17T04:43:03.745471",
     "exception": false,
     "start_time": "2022-09-17T04:43:03.724331",
     "status": "completed"
    },
    "tags": []
   },
   "source": [
    "#  **Titanic - Machine Learning from Disaster**\n",
    "\n",
    "I am a beginner in the field of machine learning. This notebook is an attempt to start my machine learning journey. Please give it an upvote, it will motivate me. Any suggestion is also welcomed."
   ]
  },
  {
   "cell_type": "markdown",
   "id": "48c342e7",
   "metadata": {
    "papermill": {
     "duration": 0.020056,
     "end_time": "2022-09-17T04:43:03.785247",
     "exception": false,
     "start_time": "2022-09-17T04:43:03.765191",
     "status": "completed"
    },
    "tags": []
   },
   "source": [
    "# **1.) Importing Libraries**\n",
    "\n",
    "\n",
    "  The first step is to import inbuilt python libraries. "
   ]
  },
  {
   "cell_type": "code",
   "execution_count": 1,
   "id": "4059ccbc",
   "metadata": {
    "execution": {
     "iopub.execute_input": "2022-09-17T04:43:03.840215Z",
     "iopub.status.busy": "2022-09-17T04:43:03.838873Z",
     "iopub.status.idle": "2022-09-17T04:43:05.006791Z",
     "shell.execute_reply": "2022-09-17T04:43:05.005605Z"
    },
    "papermill": {
     "duration": 1.19976,
     "end_time": "2022-09-17T04:43:05.009675",
     "exception": false,
     "start_time": "2022-09-17T04:43:03.809915",
     "status": "completed"
    },
    "tags": []
   },
   "outputs": [],
   "source": [
    "#data analysis libraries\n",
    "import numpy as np\n",
    "import pandas as pd\n",
    "\n",
    "#visualization libraries\n",
    "import matplotlib.pyplot as plt\n",
    "import seaborn as sns\n",
    "%matplotlib inline\n",
    "\n",
    "#ignore warnings\n",
    "import warnings\n",
    "warnings.filterwarnings('ignore')"
   ]
  },
  {
   "cell_type": "markdown",
   "id": "657dbf6c",
   "metadata": {
    "papermill": {
     "duration": 0.019068,
     "end_time": "2022-09-17T04:43:05.048367",
     "exception": false,
     "start_time": "2022-09-17T04:43:05.029299",
     "status": "completed"
    },
    "tags": []
   },
   "source": [
    "# **2.) Reading Data**\n",
    "\n",
    "Now we will read the train and test data given. We will import this data and explore it to understand and analyse it."
   ]
  },
  {
   "cell_type": "code",
   "execution_count": 2,
   "id": "7aca46cf",
   "metadata": {
    "execution": {
     "iopub.execute_input": "2022-09-17T04:43:05.089794Z",
     "iopub.status.busy": "2022-09-17T04:43:05.089366Z",
     "iopub.status.idle": "2022-09-17T04:43:05.137887Z",
     "shell.execute_reply": "2022-09-17T04:43:05.136692Z"
    },
    "papermill": {
     "duration": 0.072483,
     "end_time": "2022-09-17T04:43:05.140438",
     "exception": false,
     "start_time": "2022-09-17T04:43:05.067955",
     "status": "completed"
    },
    "tags": []
   },
   "outputs": [
    {
     "data": {
      "text/html": [
       "<div>\n",
       "<style scoped>\n",
       "    .dataframe tbody tr th:only-of-type {\n",
       "        vertical-align: middle;\n",
       "    }\n",
       "\n",
       "    .dataframe tbody tr th {\n",
       "        vertical-align: top;\n",
       "    }\n",
       "\n",
       "    .dataframe thead th {\n",
       "        text-align: right;\n",
       "    }\n",
       "</style>\n",
       "<table border=\"1\" class=\"dataframe\">\n",
       "  <thead>\n",
       "    <tr style=\"text-align: right;\">\n",
       "      <th></th>\n",
       "      <th>PassengerId</th>\n",
       "      <th>Survived</th>\n",
       "      <th>Pclass</th>\n",
       "      <th>Name</th>\n",
       "      <th>Sex</th>\n",
       "      <th>Age</th>\n",
       "      <th>SibSp</th>\n",
       "      <th>Parch</th>\n",
       "      <th>Ticket</th>\n",
       "      <th>Fare</th>\n",
       "      <th>Cabin</th>\n",
       "      <th>Embarked</th>\n",
       "    </tr>\n",
       "  </thead>\n",
       "  <tbody>\n",
       "    <tr>\n",
       "      <th>0</th>\n",
       "      <td>1</td>\n",
       "      <td>0</td>\n",
       "      <td>3</td>\n",
       "      <td>Braund, Mr. Owen Harris</td>\n",
       "      <td>male</td>\n",
       "      <td>22.0</td>\n",
       "      <td>1</td>\n",
       "      <td>0</td>\n",
       "      <td>A/5 21171</td>\n",
       "      <td>7.2500</td>\n",
       "      <td>NaN</td>\n",
       "      <td>S</td>\n",
       "    </tr>\n",
       "    <tr>\n",
       "      <th>1</th>\n",
       "      <td>2</td>\n",
       "      <td>1</td>\n",
       "      <td>1</td>\n",
       "      <td>Cumings, Mrs. John Bradley (Florence Briggs Th...</td>\n",
       "      <td>female</td>\n",
       "      <td>38.0</td>\n",
       "      <td>1</td>\n",
       "      <td>0</td>\n",
       "      <td>PC 17599</td>\n",
       "      <td>71.2833</td>\n",
       "      <td>C85</td>\n",
       "      <td>C</td>\n",
       "    </tr>\n",
       "    <tr>\n",
       "      <th>2</th>\n",
       "      <td>3</td>\n",
       "      <td>1</td>\n",
       "      <td>3</td>\n",
       "      <td>Heikkinen, Miss. Laina</td>\n",
       "      <td>female</td>\n",
       "      <td>26.0</td>\n",
       "      <td>0</td>\n",
       "      <td>0</td>\n",
       "      <td>STON/O2. 3101282</td>\n",
       "      <td>7.9250</td>\n",
       "      <td>NaN</td>\n",
       "      <td>S</td>\n",
       "    </tr>\n",
       "    <tr>\n",
       "      <th>3</th>\n",
       "      <td>4</td>\n",
       "      <td>1</td>\n",
       "      <td>1</td>\n",
       "      <td>Futrelle, Mrs. Jacques Heath (Lily May Peel)</td>\n",
       "      <td>female</td>\n",
       "      <td>35.0</td>\n",
       "      <td>1</td>\n",
       "      <td>0</td>\n",
       "      <td>113803</td>\n",
       "      <td>53.1000</td>\n",
       "      <td>C123</td>\n",
       "      <td>S</td>\n",
       "    </tr>\n",
       "    <tr>\n",
       "      <th>4</th>\n",
       "      <td>5</td>\n",
       "      <td>0</td>\n",
       "      <td>3</td>\n",
       "      <td>Allen, Mr. William Henry</td>\n",
       "      <td>male</td>\n",
       "      <td>35.0</td>\n",
       "      <td>0</td>\n",
       "      <td>0</td>\n",
       "      <td>373450</td>\n",
       "      <td>8.0500</td>\n",
       "      <td>NaN</td>\n",
       "      <td>S</td>\n",
       "    </tr>\n",
       "  </tbody>\n",
       "</table>\n",
       "</div>"
      ],
      "text/plain": [
       "   PassengerId  Survived  Pclass  \\\n",
       "0            1         0       3   \n",
       "1            2         1       1   \n",
       "2            3         1       3   \n",
       "3            4         1       1   \n",
       "4            5         0       3   \n",
       "\n",
       "                                                Name     Sex   Age  SibSp  \\\n",
       "0                            Braund, Mr. Owen Harris    male  22.0      1   \n",
       "1  Cumings, Mrs. John Bradley (Florence Briggs Th...  female  38.0      1   \n",
       "2                             Heikkinen, Miss. Laina  female  26.0      0   \n",
       "3       Futrelle, Mrs. Jacques Heath (Lily May Peel)  female  35.0      1   \n",
       "4                           Allen, Mr. William Henry    male  35.0      0   \n",
       "\n",
       "   Parch            Ticket     Fare Cabin Embarked  \n",
       "0      0         A/5 21171   7.2500   NaN        S  \n",
       "1      0          PC 17599  71.2833   C85        C  \n",
       "2      0  STON/O2. 3101282   7.9250   NaN        S  \n",
       "3      0            113803  53.1000  C123        S  \n",
       "4      0            373450   8.0500   NaN        S  "
      ]
     },
     "execution_count": 2,
     "metadata": {},
     "output_type": "execute_result"
    }
   ],
   "source": [
    "#reading training data\n",
    "train_data = pd.read_csv('../input/titanic/train.csv')\n",
    "train_data.head()"
   ]
  },
  {
   "cell_type": "code",
   "execution_count": 3,
   "id": "2f1ab124",
   "metadata": {
    "execution": {
     "iopub.execute_input": "2022-09-17T04:43:05.182288Z",
     "iopub.status.busy": "2022-09-17T04:43:05.181869Z",
     "iopub.status.idle": "2022-09-17T04:43:05.211496Z",
     "shell.execute_reply": "2022-09-17T04:43:05.210243Z"
    },
    "papermill": {
     "duration": 0.054037,
     "end_time": "2022-09-17T04:43:05.214250",
     "exception": false,
     "start_time": "2022-09-17T04:43:05.160213",
     "status": "completed"
    },
    "tags": []
   },
   "outputs": [
    {
     "data": {
      "text/html": [
       "<div>\n",
       "<style scoped>\n",
       "    .dataframe tbody tr th:only-of-type {\n",
       "        vertical-align: middle;\n",
       "    }\n",
       "\n",
       "    .dataframe tbody tr th {\n",
       "        vertical-align: top;\n",
       "    }\n",
       "\n",
       "    .dataframe thead th {\n",
       "        text-align: right;\n",
       "    }\n",
       "</style>\n",
       "<table border=\"1\" class=\"dataframe\">\n",
       "  <thead>\n",
       "    <tr style=\"text-align: right;\">\n",
       "      <th></th>\n",
       "      <th>PassengerId</th>\n",
       "      <th>Pclass</th>\n",
       "      <th>Name</th>\n",
       "      <th>Sex</th>\n",
       "      <th>Age</th>\n",
       "      <th>SibSp</th>\n",
       "      <th>Parch</th>\n",
       "      <th>Ticket</th>\n",
       "      <th>Fare</th>\n",
       "      <th>Cabin</th>\n",
       "      <th>Embarked</th>\n",
       "    </tr>\n",
       "  </thead>\n",
       "  <tbody>\n",
       "    <tr>\n",
       "      <th>0</th>\n",
       "      <td>892</td>\n",
       "      <td>3</td>\n",
       "      <td>Kelly, Mr. James</td>\n",
       "      <td>male</td>\n",
       "      <td>34.5</td>\n",
       "      <td>0</td>\n",
       "      <td>0</td>\n",
       "      <td>330911</td>\n",
       "      <td>7.8292</td>\n",
       "      <td>NaN</td>\n",
       "      <td>Q</td>\n",
       "    </tr>\n",
       "    <tr>\n",
       "      <th>1</th>\n",
       "      <td>893</td>\n",
       "      <td>3</td>\n",
       "      <td>Wilkes, Mrs. James (Ellen Needs)</td>\n",
       "      <td>female</td>\n",
       "      <td>47.0</td>\n",
       "      <td>1</td>\n",
       "      <td>0</td>\n",
       "      <td>363272</td>\n",
       "      <td>7.0000</td>\n",
       "      <td>NaN</td>\n",
       "      <td>S</td>\n",
       "    </tr>\n",
       "    <tr>\n",
       "      <th>2</th>\n",
       "      <td>894</td>\n",
       "      <td>2</td>\n",
       "      <td>Myles, Mr. Thomas Francis</td>\n",
       "      <td>male</td>\n",
       "      <td>62.0</td>\n",
       "      <td>0</td>\n",
       "      <td>0</td>\n",
       "      <td>240276</td>\n",
       "      <td>9.6875</td>\n",
       "      <td>NaN</td>\n",
       "      <td>Q</td>\n",
       "    </tr>\n",
       "    <tr>\n",
       "      <th>3</th>\n",
       "      <td>895</td>\n",
       "      <td>3</td>\n",
       "      <td>Wirz, Mr. Albert</td>\n",
       "      <td>male</td>\n",
       "      <td>27.0</td>\n",
       "      <td>0</td>\n",
       "      <td>0</td>\n",
       "      <td>315154</td>\n",
       "      <td>8.6625</td>\n",
       "      <td>NaN</td>\n",
       "      <td>S</td>\n",
       "    </tr>\n",
       "    <tr>\n",
       "      <th>4</th>\n",
       "      <td>896</td>\n",
       "      <td>3</td>\n",
       "      <td>Hirvonen, Mrs. Alexander (Helga E Lindqvist)</td>\n",
       "      <td>female</td>\n",
       "      <td>22.0</td>\n",
       "      <td>1</td>\n",
       "      <td>1</td>\n",
       "      <td>3101298</td>\n",
       "      <td>12.2875</td>\n",
       "      <td>NaN</td>\n",
       "      <td>S</td>\n",
       "    </tr>\n",
       "  </tbody>\n",
       "</table>\n",
       "</div>"
      ],
      "text/plain": [
       "   PassengerId  Pclass                                          Name     Sex  \\\n",
       "0          892       3                              Kelly, Mr. James    male   \n",
       "1          893       3              Wilkes, Mrs. James (Ellen Needs)  female   \n",
       "2          894       2                     Myles, Mr. Thomas Francis    male   \n",
       "3          895       3                              Wirz, Mr. Albert    male   \n",
       "4          896       3  Hirvonen, Mrs. Alexander (Helga E Lindqvist)  female   \n",
       "\n",
       "    Age  SibSp  Parch   Ticket     Fare Cabin Embarked  \n",
       "0  34.5      0      0   330911   7.8292   NaN        Q  \n",
       "1  47.0      1      0   363272   7.0000   NaN        S  \n",
       "2  62.0      0      0   240276   9.6875   NaN        Q  \n",
       "3  27.0      0      0   315154   8.6625   NaN        S  \n",
       "4  22.0      1      1  3101298  12.2875   NaN        S  "
      ]
     },
     "execution_count": 3,
     "metadata": {},
     "output_type": "execute_result"
    }
   ],
   "source": [
    "#reading testing data\n",
    "test_data = pd.read_csv('../input/titanic/test.csv')\n",
    "test_data.head()"
   ]
  },
  {
   "cell_type": "markdown",
   "id": "44bade86",
   "metadata": {
    "papermill": {
     "duration": 0.020476,
     "end_time": "2022-09-17T04:43:05.255518",
     "exception": false,
     "start_time": "2022-09-17T04:43:05.235042",
     "status": "completed"
    },
    "tags": []
   },
   "source": [
    "# ** 3.) Analysing Data**\n",
    "\n",
    "Now we will analyse the data,look how the data is different in test and train csv files."
   ]
  },
  {
   "cell_type": "code",
   "execution_count": 4,
   "id": "f7f2edf4",
   "metadata": {
    "execution": {
     "iopub.execute_input": "2022-09-17T04:43:05.298694Z",
     "iopub.status.busy": "2022-09-17T04:43:05.297440Z",
     "iopub.status.idle": "2022-09-17T04:43:05.304719Z",
     "shell.execute_reply": "2022-09-17T04:43:05.303302Z"
    },
    "papermill": {
     "duration": 0.032074,
     "end_time": "2022-09-17T04:43:05.307462",
     "exception": false,
     "start_time": "2022-09-17T04:43:05.275388",
     "status": "completed"
    },
    "tags": []
   },
   "outputs": [
    {
     "name": "stdout",
     "output_type": "stream",
     "text": [
      "Index(['PassengerId', 'Survived', 'Pclass', 'Name', 'Sex', 'Age', 'SibSp',\n",
      "       'Parch', 'Ticket', 'Fare', 'Cabin', 'Embarked'],\n",
      "      dtype='object')\n"
     ]
    }
   ],
   "source": [
    "#printing the column names in the training data\n",
    "print(train_data.columns)"
   ]
  },
  {
   "cell_type": "code",
   "execution_count": 5,
   "id": "41389447",
   "metadata": {
    "execution": {
     "iopub.execute_input": "2022-09-17T04:43:05.353427Z",
     "iopub.status.busy": "2022-09-17T04:43:05.353027Z",
     "iopub.status.idle": "2022-09-17T04:43:05.358844Z",
     "shell.execute_reply": "2022-09-17T04:43:05.357647Z"
    },
    "papermill": {
     "duration": 0.033097,
     "end_time": "2022-09-17T04:43:05.362597",
     "exception": false,
     "start_time": "2022-09-17T04:43:05.329500",
     "status": "completed"
    },
    "tags": []
   },
   "outputs": [
    {
     "name": "stdout",
     "output_type": "stream",
     "text": [
      "Index(['PassengerId', 'Pclass', 'Name', 'Sex', 'Age', 'SibSp', 'Parch',\n",
      "       'Ticket', 'Fare', 'Cabin', 'Embarked'],\n",
      "      dtype='object')\n"
     ]
    }
   ],
   "source": [
    "#printing the column names in the testing data\n",
    "print(test_data.columns)"
   ]
  },
  {
   "cell_type": "markdown",
   "id": "32966bf7",
   "metadata": {
    "papermill": {
     "duration": 0.023954,
     "end_time": "2022-09-17T04:43:05.414433",
     "exception": false,
     "start_time": "2022-09-17T04:43:05.390479",
     "status": "completed"
    },
    "tags": []
   },
   "source": [
    "we can see that the training data has an extra columns - 'Survived'. It is so because we have to predict the survival of the passengers whose details have been given in the testing data."
   ]
  },
  {
   "cell_type": "markdown",
   "id": "c2c412d0",
   "metadata": {
    "papermill": {
     "duration": 0.02042,
     "end_time": "2022-09-17T04:43:05.458168",
     "exception": false,
     "start_time": "2022-09-17T04:43:05.437748",
     "status": "completed"
    },
    "tags": []
   },
   "source": [
    "# **4.) Data Visualization**\n",
    "\n",
    "Now we will visualize the data so that we can better understand it."
   ]
  },
  {
   "cell_type": "markdown",
   "id": "9b0fff96",
   "metadata": {
    "papermill": {
     "duration": 0.02042,
     "end_time": "2022-09-17T04:43:05.499566",
     "exception": false,
     "start_time": "2022-09-17T04:43:05.479146",
     "status": "completed"
    },
    "tags": []
   },
   "source": [
    "# Pclass"
   ]
  },
  {
   "cell_type": "code",
   "execution_count": 6,
   "id": "c564b150",
   "metadata": {
    "execution": {
     "iopub.execute_input": "2022-09-17T04:43:05.542684Z",
     "iopub.status.busy": "2022-09-17T04:43:05.542268Z",
     "iopub.status.idle": "2022-09-17T04:43:05.871167Z",
     "shell.execute_reply": "2022-09-17T04:43:05.868885Z"
    },
    "papermill": {
     "duration": 0.35359,
     "end_time": "2022-09-17T04:43:05.873874",
     "exception": false,
     "start_time": "2022-09-17T04:43:05.520284",
     "status": "completed"
    },
    "tags": []
   },
   "outputs": [
    {
     "name": "stdout",
     "output_type": "stream",
     "text": [
      "Percentage of survivors of Pclass = 1: 62.96296296296296\n",
      "Percentage of survivors of Pclass = 2: 47.28260869565217\n",
      "Percentage of survivors of Pclass = 3: 24.236252545824847\n"
     ]
    },
    {
     "data": {
      "image/png": "[encoded data removed]",
      "text/plain": [
       "<Figure size 432x288 with 1 Axes>"
      ]
     },
     "metadata": {
      "needs_background": "light"
     },
     "output_type": "display_data"
    }
   ],
   "source": [
    "#drawing a bar plot of survival by Pclass\n",
    "sns.barplot(x='Pclass', y='Survived' , data = train_data)\n",
    "\n",
    "#printing percentage of people who survived by Pclass\n",
    "print('Percentage of survivors of Pclass = 1:' ,train_data['Survived']\n",
    "      [train_data ['Pclass']==1].value_counts(normalize=True)[1]*100)\n",
    "\n",
    "print('Percentage of survivors of Pclass = 2:' ,train_data['Survived']\n",
    "      [train_data ['Pclass']==2].value_counts(normalize=True)[1]*100)\n",
    "\n",
    "print('Percentage of survivors of Pclass = 3:' ,train_data['Survived']\n",
    "      [train_data ['Pclass']==3].value_counts(normalize=True)[1]*100)\n",
    "\n",
    "\n",
    "\n",
    "\n"
   ]
  },
  {
   "cell_type": "markdown",
   "id": "0f1540dd",
   "metadata": {
    "papermill": {
     "duration": 0.020617,
     "end_time": "2022-09-17T04:43:05.914942",
     "exception": false,
     "start_time": "2022-09-17T04:43:05.894325",
     "status": "completed"
    },
    "tags": []
   },
   "source": [
    "From the above bar graph we can see that the people belonging to the first class survived the most while the people belonging to the third class have the least chances of survival."
   ]
  },
  {
   "cell_type": "markdown",
   "id": "11571576",
   "metadata": {
    "papermill": {
     "duration": 0.019851,
     "end_time": "2022-09-17T04:43:05.954963",
     "exception": false,
     "start_time": "2022-09-17T04:43:05.935112",
     "status": "completed"
    },
    "tags": []
   },
   "source": [
    "# Sex"
   ]
  },
  {
   "cell_type": "code",
   "execution_count": 7,
   "id": "63c261fc",
   "metadata": {
    "execution": {
     "iopub.execute_input": "2022-09-17T04:43:05.997610Z",
     "iopub.status.busy": "2022-09-17T04:43:05.996424Z",
     "iopub.status.idle": "2022-09-17T04:43:06.238077Z",
     "shell.execute_reply": "2022-09-17T04:43:06.236715Z"
    },
    "papermill": {
     "duration": 0.265469,
     "end_time": "2022-09-17T04:43:06.240520",
     "exception": false,
     "start_time": "2022-09-17T04:43:05.975051",
     "status": "completed"
    },
    "tags": []
   },
   "outputs": [
    {
     "name": "stdout",
     "output_type": "stream",
     "text": [
      "Percentage of male survivors is :  18.890814558058924\n",
      "Percentage of female survivors is :  74.20382165605095\n"
     ]
    },
    {
     "data": {
      "image/png": "[encoded data removed]",
      "text/plain": [
       "<Figure size 432x288 with 1 Axes>"
      ]
     },
     "metadata": {
      "needs_background": "light"
     },
     "output_type": "display_data"
    }
   ],
   "source": [
    "# drawing a bar plot of the survivors by sex\n",
    "sns.barplot(x='Sex' , y='Survived' , data = train_data)\n",
    "\n",
    "#printing the percentage of survivors by sex \n",
    "print('Percentage of male survivors is : ',train_data['Survived']\n",
    "    [train_data['Sex']=='male'].value_counts(normalize = True)[1]*100)\n",
    "\n",
    "print('Percentage of female survivors is : ',train_data['Survived']\n",
    "    [train_data['Sex']=='female'].value_counts(normalize = True)[1]*100)\n",
    "\n"
   ]
  },
  {
   "cell_type": "markdown",
   "id": "348c639e",
   "metadata": {
    "papermill": {
     "duration": 0.020207,
     "end_time": "2022-09-17T04:43:06.281309",
     "exception": false,
     "start_time": "2022-09-17T04:43:06.261102",
     "status": "completed"
    },
    "tags": []
   },
   "source": [
    "From the above bar graph we can see that the chances of the females surviving are lot more than the male surviving."
   ]
  },
  {
   "cell_type": "markdown",
   "id": "2acb02b5",
   "metadata": {
    "papermill": {
     "duration": 0.020945,
     "end_time": "2022-09-17T04:43:06.323175",
     "exception": false,
     "start_time": "2022-09-17T04:43:06.302230",
     "status": "completed"
    },
    "tags": []
   },
   "source": [
    "# Age"
   ]
  },
  {
   "cell_type": "code",
   "execution_count": 8,
   "id": "43ef8da4",
   "metadata": {
    "execution": {
     "iopub.execute_input": "2022-09-17T04:43:06.365936Z",
     "iopub.status.busy": "2022-09-17T04:43:06.365490Z",
     "iopub.status.idle": "2022-09-17T04:43:06.783963Z",
     "shell.execute_reply": "2022-09-17T04:43:06.781604Z"
    },
    "papermill": {
     "duration": 0.443399,
     "end_time": "2022-09-17T04:43:06.786961",
     "exception": false,
     "start_time": "2022-09-17T04:43:06.343562",
     "status": "completed"
    },
    "tags": []
   },
   "outputs": [
    {
     "data": {
      "image/png": "[encoded data removed]",
      "text/plain": [
       "<Figure size 432x288 with 1 Axes>"
      ]
     },
     "metadata": {
      "needs_background": "light"
     },
     "output_type": "display_data"
    }
   ],
   "source": [
    "#Sorting ages into logical categories\n",
    "train_data['Age']= train_data['Age'].fillna(-0.5)\n",
    "test_data['Age'] = test_data['Age'].fillna(-0.5)\n",
    "\n",
    "bins = [-1, 0, 3, 12, 19, 24, 30, 60, np.inf]\n",
    "labels = ['Unknown', 'Baby', 'Child', 'Teenager', 'Student', 'Young Adult', \n",
    "          'Adult', 'Senior']\n",
    "train_data['AgeGroup'] = pd.cut(train_data['Age'], bins, labels=labels)\n",
    "test_data['AgeGroup'] = pd.cut(test_data['Age'], bins, labels=labels)\n",
    "\n",
    "#drawing a bar plot of AgeGroup vs Survived\n",
    "sns.barplot(x = 'AgeGroup', y='Survived', data = train_data)\n",
    "plt.show()\n",
    "\n",
    "\n"
   ]
  },
  {
   "cell_type": "markdown",
   "id": "be760277",
   "metadata": {
    "papermill": {
     "duration": 0.021039,
     "end_time": "2022-09-17T04:43:06.830237",
     "exception": false,
     "start_time": "2022-09-17T04:43:06.809198",
     "status": "completed"
    },
    "tags": []
   },
   "source": [
    "From the above bar plot we can see that the babies had the best chances of the survival. "
   ]
  },
  {
   "cell_type": "markdown",
   "id": "bfe46672",
   "metadata": {
    "papermill": {
     "duration": 0.021451,
     "end_time": "2022-09-17T04:43:06.872429",
     "exception": false,
     "start_time": "2022-09-17T04:43:06.850978",
     "status": "completed"
    },
    "tags": []
   },
   "source": [
    "# SibSp"
   ]
  },
  {
   "cell_type": "code",
   "execution_count": 9,
   "id": "2e0fd553",
   "metadata": {
    "execution": {
     "iopub.execute_input": "2022-09-17T04:43:06.916676Z",
     "iopub.status.busy": "2022-09-17T04:43:06.915865Z",
     "iopub.status.idle": "2022-09-17T04:43:07.309338Z",
     "shell.execute_reply": "2022-09-17T04:43:07.308456Z"
    },
    "papermill": {
     "duration": 0.418878,
     "end_time": "2022-09-17T04:43:07.311997",
     "exception": false,
     "start_time": "2022-09-17T04:43:06.893119",
     "status": "completed"
    },
    "tags": []
   },
   "outputs": [
    {
     "name": "stdout",
     "output_type": "stream",
     "text": [
      "Percentage of survivors having SibSp = 0:  34.53947368421053\n",
      "Percentage of survivors having SibSp = 1:  53.588516746411486\n",
      "Percentage of survivors having SibSp = 2:  46.42857142857143\n",
      "Percentage of survivors having SibSp = 3:  25.0\n",
      "Percentage of survivors having SibSp = 4:  16.666666666666664\n"
     ]
    },
    {
     "data": {
      "image/png": "[encoded data removed]",
      "text/plain": [
       "<Figure size 432x288 with 1 Axes>"
      ]
     },
     "metadata": {
      "needs_background": "light"
     },
     "output_type": "display_data"
    }
   ],
   "source": [
    "#Plotting bar plot SibSp vs Survived\n",
    "sns.barplot(x= 'SibSp' , y='Survived', data= train_data)\n",
    "\n",
    "#calculating percentages of the survived with respect to SibSp\n",
    "print(\"Percentage of survivors having SibSp = 0: \", train_data[\"Survived\"]\n",
    "      [train_data[\"SibSp\"] == 0].value_counts(normalize = True)[1]*100)\n",
    "\n",
    "print(\"Percentage of survivors having SibSp = 1: \", train_data[\"Survived\"]\n",
    "      [train_data[\"SibSp\"] == 1].value_counts(normalize = True)[1]*100)\n",
    "\n",
    "print(\"Percentage of survivors having SibSp = 2: \", train_data[\"Survived\"]\n",
    "      [train_data[\"SibSp\"] == 2].value_counts(normalize = True)[1]*100)\n",
    "\n",
    "print(\"Percentage of survivors having SibSp = 3: \", train_data[\"Survived\"]\n",
    "      [train_data[\"SibSp\"] == 3].value_counts(normalize = True)[1]*100)\n",
    "\n",
    "print(\"Percentage of survivors having SibSp = 4: \", train_data[\"Survived\"]\n",
    "      [train_data[\"SibSp\"] == 4].value_counts(normalize = True)[1]*100)"
   ]
  },
  {
   "cell_type": "markdown",
   "id": "dfbd4832",
   "metadata": {
    "papermill": {
     "duration": 0.021086,
     "end_time": "2022-09-17T04:43:07.355378",
     "exception": false,
     "start_time": "2022-09-17T04:43:07.334292",
     "status": "completed"
    },
    "tags": []
   },
   "source": [
    "We can see from the above bar plot that the people who have only one sibling or spouse survived the most."
   ]
  },
  {
   "cell_type": "markdown",
   "id": "9a2a5ec8",
   "metadata": {
    "papermill": {
     "duration": 0.020632,
     "end_time": "2022-09-17T04:43:07.396942",
     "exception": false,
     "start_time": "2022-09-17T04:43:07.376310",
     "status": "completed"
    },
    "tags": []
   },
   "source": [
    "# Parch"
   ]
  },
  {
   "cell_type": "code",
   "execution_count": 10,
   "id": "224e8d23",
   "metadata": {
    "execution": {
     "iopub.execute_input": "2022-09-17T04:43:07.440723Z",
     "iopub.status.busy": "2022-09-17T04:43:07.440307Z",
     "iopub.status.idle": "2022-09-17T04:43:07.801967Z",
     "shell.execute_reply": "2022-09-17T04:43:07.800655Z"
    },
    "papermill": {
     "duration": 0.386689,
     "end_time": "2022-09-17T04:43:07.804566",
     "exception": false,
     "start_time": "2022-09-17T04:43:07.417877",
     "status": "completed"
    },
    "tags": []
   },
   "outputs": [
    {
     "name": "stdout",
     "output_type": "stream",
     "text": [
      "Percentage of survivors having Parch = 0:  34.365781710914455\n",
      "Percentage of survivors having Parch = 1:  55.08474576271186\n",
      "Percentage of survivors having Parch = 2:  50.0\n",
      "Percentage of survivors having Parch = 3:  60.0\n",
      "Percentage of survivors having Parch = 5:  20.0\n"
     ]
    },
    {
     "data": {
      "image/png": "[encoded data removed]",
      "text/plain": [
       "<Figure size 432x288 with 1 Axes>"
      ]
     },
     "metadata": {
      "needs_background": "light"
     },
     "output_type": "display_data"
    }
   ],
   "source": [
    "#plotting a bar graph of Parch vs Survived\n",
    "sns.barplot(x='Parch', y='Survived', data= train_data)\n",
    "\n",
    "#Calculating percentages of the survived with respect to Parch\n",
    "print(\"Percentage of survivors having Parch = 0: \", train_data[\"Survived\"]\n",
    "      [train_data[\"Parch\"] == 0].value_counts(normalize = True)[1]*100)\n",
    "\n",
    "print(\"Percentage of survivors having Parch = 1: \", train_data[\"Survived\"]\n",
    "      [train_data[\"Parch\"] == 1].value_counts(normalize = True)[1]*100)\n",
    "\n",
    "print(\"Percentage of survivors having Parch = 2: \", train_data[\"Survived\"]\n",
    "      [train_data[\"Parch\"] == 2].value_counts(normalize = True)[1]*100)\n",
    "\n",
    "print(\"Percentage of survivors having Parch = 3: \", train_data[\"Survived\"]\n",
    "      [train_data[\"Parch\"] == 3].value_counts(normalize = True)[1]*100)\n",
    "\n",
    "print(\"Percentage of survivors having Parch = 5: \", train_data[\"Survived\"]\n",
    "      [train_data[\"Parch\"] == 5].value_counts(normalize = True)[1]*100)\n",
    "\n",
    "\n"
   ]
  },
  {
   "cell_type": "markdown",
   "id": "d1bac235",
   "metadata": {
    "papermill": {
     "duration": 0.020912,
     "end_time": "2022-09-17T04:43:07.846843",
     "exception": false,
     "start_time": "2022-09-17T04:43:07.825931",
     "status": "completed"
    },
    "tags": []
   },
   "source": [
    "From the above bar graph we can see that the people having 1,2 or 3  parents or children have high chances of survival. While who have 5 or no parents or children have lower chances of survival."
   ]
  },
  {
   "cell_type": "markdown",
   "id": "d51730b1",
   "metadata": {
    "papermill": {
     "duration": 0.02166,
     "end_time": "2022-09-17T04:43:07.889698",
     "exception": false,
     "start_time": "2022-09-17T04:43:07.868038",
     "status": "completed"
    },
    "tags": []
   },
   "source": [
    "# Cabin"
   ]
  },
  {
   "cell_type": "code",
   "execution_count": 11,
   "id": "ac8221af",
   "metadata": {
    "execution": {
     "iopub.execute_input": "2022-09-17T04:43:07.934010Z",
     "iopub.status.busy": "2022-09-17T04:43:07.933572Z",
     "iopub.status.idle": "2022-09-17T04:43:08.174546Z",
     "shell.execute_reply": "2022-09-17T04:43:08.173150Z"
    },
    "papermill": {
     "duration": 0.267308,
     "end_time": "2022-09-17T04:43:08.178273",
     "exception": false,
     "start_time": "2022-09-17T04:43:07.910965",
     "status": "completed"
    },
    "tags": []
   },
   "outputs": [
    {
     "name": "stdout",
     "output_type": "stream",
     "text": [
      "Percentage of survivors not having Cabin Number :  29.985443959243085\n",
      "Percentage of survivors  having Cabin Number :  66.66666666666666\n"
     ]
    },
    {
     "data": {
      "image/png": "[encoded data removed]",
      "text/plain": [
       "<Figure size 432x288 with 1 Axes>"
      ]
     },
     "metadata": {
      "needs_background": "light"
     },
     "output_type": "display_data"
    }
   ],
   "source": [
    "train_data['Cabin_num']= (train_data['Cabin'].notnull().astype('int'))\n",
    "test_data['Cabin_num']= (test_data['Cabin'].notnull().astype('int'))\n",
    "\n",
    "#Plotting a bar graph of Cabin_num vs Survived\n",
    "sns.barplot(x='Cabin_num', y ='Survived',data = train_data)\n",
    "\n",
    "#Calculating the percentages of survivors having or not having cabin number\n",
    "\n",
    "print('Percentage of survivors not having Cabin Number : ' , train_data['Survived']\n",
    "     [train_data[\"Cabin_num\"]==0].value_counts(normalize = True)[1]*100)\n",
    "\n",
    "print('Percentage of survivors  having Cabin Number : ' , train_data['Survived']\n",
    "     [train_data[\"Cabin_num\"]==1].value_counts(normalize = True)[1]*100)"
   ]
  },
  {
   "cell_type": "markdown",
   "id": "ff94b0a9",
   "metadata": {
    "papermill": {
     "duration": 0.021205,
     "end_time": "2022-09-17T04:43:08.221270",
     "exception": false,
     "start_time": "2022-09-17T04:43:08.200065",
     "status": "completed"
    },
    "tags": []
   },
   "source": [
    "From the above bar graph we can see that the people having cabin numbers have higher chances of survival. "
   ]
  },
  {
   "cell_type": "markdown",
   "id": "9efacfc9",
   "metadata": {
    "papermill": {
     "duration": 0.021617,
     "end_time": "2022-09-17T04:43:08.264457",
     "exception": false,
     "start_time": "2022-09-17T04:43:08.242840",
     "status": "completed"
    },
    "tags": []
   },
   "source": [
    "# Observations\n",
    "\n",
    "From the above visulizations and calculations let's see that what things a person must need to survive on titanic.\n",
    "\n",
    "Let's say Rose is on titanic, now what conditions (other than jack) she must have to survive.\n",
    "\n",
    "1.) Must belong to first class (Pclass = 1)\n",
    "\n",
    "\n",
    "2.) Sex must be female (which she is)\n",
    "\n",
    "\n",
    "3.) Must belong to age group 0-12  (which she is not, but let's ignore this fact for now)\n",
    "\n",
    "\n",
    "4.) Must have 1 or 2 sibling or spouse\n",
    "\n",
    "\n",
    "5.) Must have 2 or 3 parents or children\n",
    "\n",
    "\n",
    "6.) Must have a cabin number \n",
    "\n",
    "So these are some points that will play an important role in saving the life of our dear Rose.\n",
    "\n",
    "These observations are based purely on the human perception. If we will provide the above visualized data to a human he or she, will make observations like these. \n",
    "But what about machines? machines don't rely on visualized data they take on data in the form of 0s and 1s. \n",
    "we will see how the data we have is cleaned, filled and prepared to be read by a machine so that it can make predictions based on that data.\n",
    "\n"
   ]
  },
  {
   "cell_type": "markdown",
   "id": "ef78c569",
   "metadata": {
    "papermill": {
     "duration": 0.021531,
     "end_time": "2022-09-17T04:43:08.307471",
     "exception": false,
     "start_time": "2022-09-17T04:43:08.285940",
     "status": "completed"
    },
    "tags": []
   },
   "source": [
    "# **5.) Cleaning Data**"
   ]
  },
  {
   "cell_type": "markdown",
   "id": "b37515ff",
   "metadata": {
    "papermill": {
     "duration": 0.021198,
     "end_time": "2022-09-17T04:43:08.350982",
     "exception": false,
     "start_time": "2022-09-17T04:43:08.329784",
     "status": "completed"
    },
    "tags": []
   },
   "source": [
    "Now we will clean our data and look for any missing values or unnecessary information."
   ]
  },
  {
   "cell_type": "markdown",
   "id": "9e54bc94",
   "metadata": {
    "papermill": {
     "duration": 0.022563,
     "end_time": "2022-09-17T04:43:08.394798",
     "exception": false,
     "start_time": "2022-09-17T04:43:08.372235",
     "status": "completed"
    },
    "tags": []
   },
   "source": [
    "Lookin at the train data."
   ]
  },
  {
   "cell_type": "code",
   "execution_count": 12,
   "id": "3d11bec6",
   "metadata": {
    "execution": {
     "iopub.execute_input": "2022-09-17T04:43:08.440319Z",
     "iopub.status.busy": "2022-09-17T04:43:08.439929Z",
     "iopub.status.idle": "2022-09-17T04:43:08.494135Z",
     "shell.execute_reply": "2022-09-17T04:43:08.492861Z"
    },
    "papermill": {
     "duration": 0.079515,
     "end_time": "2022-09-17T04:43:08.496703",
     "exception": false,
     "start_time": "2022-09-17T04:43:08.417188",
     "status": "completed"
    },
    "tags": []
   },
   "outputs": [
    {
     "data": {
      "text/html": [
       "<div>\n",
       "<style scoped>\n",
       "    .dataframe tbody tr th:only-of-type {\n",
       "        vertical-align: middle;\n",
       "    }\n",
       "\n",
       "    .dataframe tbody tr th {\n",
       "        vertical-align: top;\n",
       "    }\n",
       "\n",
       "    .dataframe thead th {\n",
       "        text-align: right;\n",
       "    }\n",
       "</style>\n",
       "<table border=\"1\" class=\"dataframe\">\n",
       "  <thead>\n",
       "    <tr style=\"text-align: right;\">\n",
       "      <th></th>\n",
       "      <th>PassengerId</th>\n",
       "      <th>Survived</th>\n",
       "      <th>Pclass</th>\n",
       "      <th>Name</th>\n",
       "      <th>Sex</th>\n",
       "      <th>Age</th>\n",
       "      <th>SibSp</th>\n",
       "      <th>Parch</th>\n",
       "      <th>Ticket</th>\n",
       "      <th>Fare</th>\n",
       "      <th>Cabin</th>\n",
       "      <th>Embarked</th>\n",
       "      <th>AgeGroup</th>\n",
       "      <th>Cabin_num</th>\n",
       "    </tr>\n",
       "  </thead>\n",
       "  <tbody>\n",
       "    <tr>\n",
       "      <th>count</th>\n",
       "      <td>891.000000</td>\n",
       "      <td>891.000000</td>\n",
       "      <td>891.000000</td>\n",
       "      <td>891</td>\n",
       "      <td>891</td>\n",
       "      <td>891.000000</td>\n",
       "      <td>891.000000</td>\n",
       "      <td>891.000000</td>\n",
       "      <td>891</td>\n",
       "      <td>891.000000</td>\n",
       "      <td>204</td>\n",
       "      <td>889</td>\n",
       "      <td>891</td>\n",
       "      <td>891.000000</td>\n",
       "    </tr>\n",
       "    <tr>\n",
       "      <th>unique</th>\n",
       "      <td>NaN</td>\n",
       "      <td>NaN</td>\n",
       "      <td>NaN</td>\n",
       "      <td>891</td>\n",
       "      <td>2</td>\n",
       "      <td>NaN</td>\n",
       "      <td>NaN</td>\n",
       "      <td>NaN</td>\n",
       "      <td>681</td>\n",
       "      <td>NaN</td>\n",
       "      <td>147</td>\n",
       "      <td>3</td>\n",
       "      <td>8</td>\n",
       "      <td>NaN</td>\n",
       "    </tr>\n",
       "    <tr>\n",
       "      <th>top</th>\n",
       "      <td>NaN</td>\n",
       "      <td>NaN</td>\n",
       "      <td>NaN</td>\n",
       "      <td>Braund, Mr. Owen Harris</td>\n",
       "      <td>male</td>\n",
       "      <td>NaN</td>\n",
       "      <td>NaN</td>\n",
       "      <td>NaN</td>\n",
       "      <td>347082</td>\n",
       "      <td>NaN</td>\n",
       "      <td>B96 B98</td>\n",
       "      <td>S</td>\n",
       "      <td>Adult</td>\n",
       "      <td>NaN</td>\n",
       "    </tr>\n",
       "    <tr>\n",
       "      <th>freq</th>\n",
       "      <td>NaN</td>\n",
       "      <td>NaN</td>\n",
       "      <td>NaN</td>\n",
       "      <td>1</td>\n",
       "      <td>577</td>\n",
       "      <td>NaN</td>\n",
       "      <td>NaN</td>\n",
       "      <td>NaN</td>\n",
       "      <td>7</td>\n",
       "      <td>NaN</td>\n",
       "      <td>4</td>\n",
       "      <td>644</td>\n",
       "      <td>283</td>\n",
       "      <td>NaN</td>\n",
       "    </tr>\n",
       "    <tr>\n",
       "      <th>mean</th>\n",
       "      <td>446.000000</td>\n",
       "      <td>0.383838</td>\n",
       "      <td>2.308642</td>\n",
       "      <td>NaN</td>\n",
       "      <td>NaN</td>\n",
       "      <td>23.699966</td>\n",
       "      <td>0.523008</td>\n",
       "      <td>0.381594</td>\n",
       "      <td>NaN</td>\n",
       "      <td>32.204208</td>\n",
       "      <td>NaN</td>\n",
       "      <td>NaN</td>\n",
       "      <td>NaN</td>\n",
       "      <td>0.228956</td>\n",
       "    </tr>\n",
       "    <tr>\n",
       "      <th>std</th>\n",
       "      <td>257.353842</td>\n",
       "      <td>0.486592</td>\n",
       "      <td>0.836071</td>\n",
       "      <td>NaN</td>\n",
       "      <td>NaN</td>\n",
       "      <td>17.731181</td>\n",
       "      <td>1.102743</td>\n",
       "      <td>0.806057</td>\n",
       "      <td>NaN</td>\n",
       "      <td>49.693429</td>\n",
       "      <td>NaN</td>\n",
       "      <td>NaN</td>\n",
       "      <td>NaN</td>\n",
       "      <td>0.420397</td>\n",
       "    </tr>\n",
       "    <tr>\n",
       "      <th>min</th>\n",
       "      <td>1.000000</td>\n",
       "      <td>0.000000</td>\n",
       "      <td>1.000000</td>\n",
       "      <td>NaN</td>\n",
       "      <td>NaN</td>\n",
       "      <td>-0.500000</td>\n",
       "      <td>0.000000</td>\n",
       "      <td>0.000000</td>\n",
       "      <td>NaN</td>\n",
       "      <td>0.000000</td>\n",
       "      <td>NaN</td>\n",
       "      <td>NaN</td>\n",
       "      <td>NaN</td>\n",
       "      <td>0.000000</td>\n",
       "    </tr>\n",
       "    <tr>\n",
       "      <th>25%</th>\n",
       "      <td>223.500000</td>\n",
       "      <td>0.000000</td>\n",
       "      <td>2.000000</td>\n",
       "      <td>NaN</td>\n",
       "      <td>NaN</td>\n",
       "      <td>6.000000</td>\n",
       "      <td>0.000000</td>\n",
       "      <td>0.000000</td>\n",
       "      <td>NaN</td>\n",
       "      <td>7.910400</td>\n",
       "      <td>NaN</td>\n",
       "      <td>NaN</td>\n",
       "      <td>NaN</td>\n",
       "      <td>0.000000</td>\n",
       "    </tr>\n",
       "    <tr>\n",
       "      <th>50%</th>\n",
       "      <td>446.000000</td>\n",
       "      <td>0.000000</td>\n",
       "      <td>3.000000</td>\n",
       "      <td>NaN</td>\n",
       "      <td>NaN</td>\n",
       "      <td>24.000000</td>\n",
       "      <td>0.000000</td>\n",
       "      <td>0.000000</td>\n",
       "      <td>NaN</td>\n",
       "      <td>14.454200</td>\n",
       "      <td>NaN</td>\n",
       "      <td>NaN</td>\n",
       "      <td>NaN</td>\n",
       "      <td>0.000000</td>\n",
       "    </tr>\n",
       "    <tr>\n",
       "      <th>75%</th>\n",
       "      <td>668.500000</td>\n",
       "      <td>1.000000</td>\n",
       "      <td>3.000000</td>\n",
       "      <td>NaN</td>\n",
       "      <td>NaN</td>\n",
       "      <td>35.000000</td>\n",
       "      <td>1.000000</td>\n",
       "      <td>0.000000</td>\n",
       "      <td>NaN</td>\n",
       "      <td>31.000000</td>\n",
       "      <td>NaN</td>\n",
       "      <td>NaN</td>\n",
       "      <td>NaN</td>\n",
       "      <td>0.000000</td>\n",
       "    </tr>\n",
       "    <tr>\n",
       "      <th>max</th>\n",
       "      <td>891.000000</td>\n",
       "      <td>1.000000</td>\n",
       "      <td>3.000000</td>\n",
       "      <td>NaN</td>\n",
       "      <td>NaN</td>\n",
       "      <td>80.000000</td>\n",
       "      <td>8.000000</td>\n",
       "      <td>6.000000</td>\n",
       "      <td>NaN</td>\n",
       "      <td>512.329200</td>\n",
       "      <td>NaN</td>\n",
       "      <td>NaN</td>\n",
       "      <td>NaN</td>\n",
       "      <td>1.000000</td>\n",
       "    </tr>\n",
       "  </tbody>\n",
       "</table>\n",
       "</div>"
      ],
      "text/plain": [
       "        PassengerId    Survived      Pclass                     Name   Sex  \\\n",
       "count    891.000000  891.000000  891.000000                      891   891   \n",
       "unique          NaN         NaN         NaN                      891     2   \n",
       "top             NaN         NaN         NaN  Braund, Mr. Owen Harris  male   \n",
       "freq            NaN         NaN         NaN                        1   577   \n",
       "mean     446.000000    0.383838    2.308642                      NaN   NaN   \n",
       "std      257.353842    0.486592    0.836071                      NaN   NaN   \n",
       "min        1.000000    0.000000    1.000000                      NaN   NaN   \n",
       "25%      223.500000    0.000000    2.000000                      NaN   NaN   \n",
       "50%      446.000000    0.000000    3.000000                      NaN   NaN   \n",
       "75%      668.500000    1.000000    3.000000                      NaN   NaN   \n",
       "max      891.000000    1.000000    3.000000                      NaN   NaN   \n",
       "\n",
       "               Age       SibSp       Parch  Ticket        Fare    Cabin  \\\n",
       "count   891.000000  891.000000  891.000000     891  891.000000      204   \n",
       "unique         NaN         NaN         NaN     681         NaN      147   \n",
       "top            NaN         NaN         NaN  347082         NaN  B96 B98   \n",
       "freq           NaN         NaN         NaN       7         NaN        4   \n",
       "mean     23.699966    0.523008    0.381594     NaN   32.204208      NaN   \n",
       "std      17.731181    1.102743    0.806057     NaN   49.693429      NaN   \n",
       "min      -0.500000    0.000000    0.000000     NaN    0.000000      NaN   \n",
       "25%       6.000000    0.000000    0.000000     NaN    7.910400      NaN   \n",
       "50%      24.000000    0.000000    0.000000     NaN   14.454200      NaN   \n",
       "75%      35.000000    1.000000    0.000000     NaN   31.000000      NaN   \n",
       "max      80.000000    8.000000    6.000000     NaN  512.329200      NaN   \n",
       "\n",
       "       Embarked AgeGroup   Cabin_num  \n",
       "count       889      891  891.000000  \n",
       "unique        3        8         NaN  \n",
       "top           S    Adult         NaN  \n",
       "freq        644      283         NaN  \n",
       "mean        NaN      NaN    0.228956  \n",
       "std         NaN      NaN    0.420397  \n",
       "min         NaN      NaN    0.000000  \n",
       "25%         NaN      NaN    0.000000  \n",
       "50%         NaN      NaN    0.000000  \n",
       "75%         NaN      NaN    0.000000  \n",
       "max         NaN      NaN    1.000000  "
      ]
     },
     "execution_count": 12,
     "metadata": {},
     "output_type": "execute_result"
    }
   ],
   "source": [
    "train_data.describe(include = 'all')"
   ]
  },
  {
   "cell_type": "markdown",
   "id": "f5c5c1d3",
   "metadata": {
    "papermill": {
     "duration": 0.021656,
     "end_time": "2022-09-17T04:43:08.540542",
     "exception": false,
     "start_time": "2022-09-17T04:43:08.518886",
     "status": "completed"
    },
    "tags": []
   },
   "source": [
    "Looking at the test data."
   ]
  },
  {
   "cell_type": "code",
   "execution_count": 13,
   "id": "f76bb989",
   "metadata": {
    "execution": {
     "iopub.execute_input": "2022-09-17T04:43:08.586437Z",
     "iopub.status.busy": "2022-09-17T04:43:08.586023Z",
     "iopub.status.idle": "2022-09-17T04:43:08.635379Z",
     "shell.execute_reply": "2022-09-17T04:43:08.634056Z"
    },
    "papermill": {
     "duration": 0.075378,
     "end_time": "2022-09-17T04:43:08.637917",
     "exception": false,
     "start_time": "2022-09-17T04:43:08.562539",
     "status": "completed"
    },
    "tags": []
   },
   "outputs": [
    {
     "data": {
      "text/html": [
       "<div>\n",
       "<style scoped>\n",
       "    .dataframe tbody tr th:only-of-type {\n",
       "        vertical-align: middle;\n",
       "    }\n",
       "\n",
       "    .dataframe tbody tr th {\n",
       "        vertical-align: top;\n",
       "    }\n",
       "\n",
       "    .dataframe thead th {\n",
       "        text-align: right;\n",
       "    }\n",
       "</style>\n",
       "<table border=\"1\" class=\"dataframe\">\n",
       "  <thead>\n",
       "    <tr style=\"text-align: right;\">\n",
       "      <th></th>\n",
       "      <th>PassengerId</th>\n",
       "      <th>Pclass</th>\n",
       "      <th>Name</th>\n",
       "      <th>Sex</th>\n",
       "      <th>Age</th>\n",
       "      <th>SibSp</th>\n",
       "      <th>Parch</th>\n",
       "      <th>Ticket</th>\n",
       "      <th>Fare</th>\n",
       "      <th>Cabin</th>\n",
       "      <th>Embarked</th>\n",
       "      <th>AgeGroup</th>\n",
       "      <th>Cabin_num</th>\n",
       "    </tr>\n",
       "  </thead>\n",
       "  <tbody>\n",
       "    <tr>\n",
       "      <th>count</th>\n",
       "      <td>418.000000</td>\n",
       "      <td>418.000000</td>\n",
       "      <td>418</td>\n",
       "      <td>418</td>\n",
       "      <td>418.000000</td>\n",
       "      <td>418.000000</td>\n",
       "      <td>418.000000</td>\n",
       "      <td>418</td>\n",
       "      <td>417.000000</td>\n",
       "      <td>91</td>\n",
       "      <td>418</td>\n",
       "      <td>418</td>\n",
       "      <td>418.000000</td>\n",
       "    </tr>\n",
       "    <tr>\n",
       "      <th>unique</th>\n",
       "      <td>NaN</td>\n",
       "      <td>NaN</td>\n",
       "      <td>418</td>\n",
       "      <td>2</td>\n",
       "      <td>NaN</td>\n",
       "      <td>NaN</td>\n",
       "      <td>NaN</td>\n",
       "      <td>363</td>\n",
       "      <td>NaN</td>\n",
       "      <td>76</td>\n",
       "      <td>3</td>\n",
       "      <td>8</td>\n",
       "      <td>NaN</td>\n",
       "    </tr>\n",
       "    <tr>\n",
       "      <th>top</th>\n",
       "      <td>NaN</td>\n",
       "      <td>NaN</td>\n",
       "      <td>Kelly, Mr. James</td>\n",
       "      <td>male</td>\n",
       "      <td>NaN</td>\n",
       "      <td>NaN</td>\n",
       "      <td>NaN</td>\n",
       "      <td>PC 17608</td>\n",
       "      <td>NaN</td>\n",
       "      <td>B57 B59 B63 B66</td>\n",
       "      <td>S</td>\n",
       "      <td>Adult</td>\n",
       "      <td>NaN</td>\n",
       "    </tr>\n",
       "    <tr>\n",
       "      <th>freq</th>\n",
       "      <td>NaN</td>\n",
       "      <td>NaN</td>\n",
       "      <td>1</td>\n",
       "      <td>266</td>\n",
       "      <td>NaN</td>\n",
       "      <td>NaN</td>\n",
       "      <td>NaN</td>\n",
       "      <td>5</td>\n",
       "      <td>NaN</td>\n",
       "      <td>3</td>\n",
       "      <td>270</td>\n",
       "      <td>121</td>\n",
       "      <td>NaN</td>\n",
       "    </tr>\n",
       "    <tr>\n",
       "      <th>mean</th>\n",
       "      <td>1100.500000</td>\n",
       "      <td>2.265550</td>\n",
       "      <td>NaN</td>\n",
       "      <td>NaN</td>\n",
       "      <td>23.941388</td>\n",
       "      <td>0.447368</td>\n",
       "      <td>0.392344</td>\n",
       "      <td>NaN</td>\n",
       "      <td>35.627188</td>\n",
       "      <td>NaN</td>\n",
       "      <td>NaN</td>\n",
       "      <td>NaN</td>\n",
       "      <td>0.217703</td>\n",
       "    </tr>\n",
       "    <tr>\n",
       "      <th>std</th>\n",
       "      <td>120.810458</td>\n",
       "      <td>0.841838</td>\n",
       "      <td>NaN</td>\n",
       "      <td>NaN</td>\n",
       "      <td>17.741080</td>\n",
       "      <td>0.896760</td>\n",
       "      <td>0.981429</td>\n",
       "      <td>NaN</td>\n",
       "      <td>55.907576</td>\n",
       "      <td>NaN</td>\n",
       "      <td>NaN</td>\n",
       "      <td>NaN</td>\n",
       "      <td>0.413179</td>\n",
       "    </tr>\n",
       "    <tr>\n",
       "      <th>min</th>\n",
       "      <td>892.000000</td>\n",
       "      <td>1.000000</td>\n",
       "      <td>NaN</td>\n",
       "      <td>NaN</td>\n",
       "      <td>-0.500000</td>\n",
       "      <td>0.000000</td>\n",
       "      <td>0.000000</td>\n",
       "      <td>NaN</td>\n",
       "      <td>0.000000</td>\n",
       "      <td>NaN</td>\n",
       "      <td>NaN</td>\n",
       "      <td>NaN</td>\n",
       "      <td>0.000000</td>\n",
       "    </tr>\n",
       "    <tr>\n",
       "      <th>25%</th>\n",
       "      <td>996.250000</td>\n",
       "      <td>1.000000</td>\n",
       "      <td>NaN</td>\n",
       "      <td>NaN</td>\n",
       "      <td>9.000000</td>\n",
       "      <td>0.000000</td>\n",
       "      <td>0.000000</td>\n",
       "      <td>NaN</td>\n",
       "      <td>7.895800</td>\n",
       "      <td>NaN</td>\n",
       "      <td>NaN</td>\n",
       "      <td>NaN</td>\n",
       "      <td>0.000000</td>\n",
       "    </tr>\n",
       "    <tr>\n",
       "      <th>50%</th>\n",
       "      <td>1100.500000</td>\n",
       "      <td>3.000000</td>\n",
       "      <td>NaN</td>\n",
       "      <td>NaN</td>\n",
       "      <td>24.000000</td>\n",
       "      <td>0.000000</td>\n",
       "      <td>0.000000</td>\n",
       "      <td>NaN</td>\n",
       "      <td>14.454200</td>\n",
       "      <td>NaN</td>\n",
       "      <td>NaN</td>\n",
       "      <td>NaN</td>\n",
       "      <td>0.000000</td>\n",
       "    </tr>\n",
       "    <tr>\n",
       "      <th>75%</th>\n",
       "      <td>1204.750000</td>\n",
       "      <td>3.000000</td>\n",
       "      <td>NaN</td>\n",
       "      <td>NaN</td>\n",
       "      <td>35.750000</td>\n",
       "      <td>1.000000</td>\n",
       "      <td>0.000000</td>\n",
       "      <td>NaN</td>\n",
       "      <td>31.500000</td>\n",
       "      <td>NaN</td>\n",
       "      <td>NaN</td>\n",
       "      <td>NaN</td>\n",
       "      <td>0.000000</td>\n",
       "    </tr>\n",
       "    <tr>\n",
       "      <th>max</th>\n",
       "      <td>1309.000000</td>\n",
       "      <td>3.000000</td>\n",
       "      <td>NaN</td>\n",
       "      <td>NaN</td>\n",
       "      <td>76.000000</td>\n",
       "      <td>8.000000</td>\n",
       "      <td>9.000000</td>\n",
       "      <td>NaN</td>\n",
       "      <td>512.329200</td>\n",
       "      <td>NaN</td>\n",
       "      <td>NaN</td>\n",
       "      <td>NaN</td>\n",
       "      <td>1.000000</td>\n",
       "    </tr>\n",
       "  </tbody>\n",
       "</table>\n",
       "</div>"
      ],
      "text/plain": [
       "        PassengerId      Pclass              Name   Sex         Age  \\\n",
       "count    418.000000  418.000000               418   418  418.000000   \n",
       "unique          NaN         NaN               418     2         NaN   \n",
       "top             NaN         NaN  Kelly, Mr. James  male         NaN   \n",
       "freq            NaN         NaN                 1   266         NaN   \n",
       "mean    1100.500000    2.265550               NaN   NaN   23.941388   \n",
       "std      120.810458    0.841838               NaN   NaN   17.741080   \n",
       "min      892.000000    1.000000               NaN   NaN   -0.500000   \n",
       "25%      996.250000    1.000000               NaN   NaN    9.000000   \n",
       "50%     1100.500000    3.000000               NaN   NaN   24.000000   \n",
       "75%     1204.750000    3.000000               NaN   NaN   35.750000   \n",
       "max     1309.000000    3.000000               NaN   NaN   76.000000   \n",
       "\n",
       "             SibSp       Parch    Ticket        Fare            Cabin  \\\n",
       "count   418.000000  418.000000       418  417.000000               91   \n",
       "unique         NaN         NaN       363         NaN               76   \n",
       "top            NaN         NaN  PC 17608         NaN  B57 B59 B63 B66   \n",
       "freq           NaN         NaN         5         NaN                3   \n",
       "mean      0.447368    0.392344       NaN   35.627188              NaN   \n",
       "std       0.896760    0.981429       NaN   55.907576              NaN   \n",
       "min       0.000000    0.000000       NaN    0.000000              NaN   \n",
       "25%       0.000000    0.000000       NaN    7.895800              NaN   \n",
       "50%       0.000000    0.000000       NaN   14.454200              NaN   \n",
       "75%       1.000000    0.000000       NaN   31.500000              NaN   \n",
       "max       8.000000    9.000000       NaN  512.329200              NaN   \n",
       "\n",
       "       Embarked AgeGroup   Cabin_num  \n",
       "count       418      418  418.000000  \n",
       "unique        3        8         NaN  \n",
       "top           S    Adult         NaN  \n",
       "freq        270      121         NaN  \n",
       "mean        NaN      NaN    0.217703  \n",
       "std         NaN      NaN    0.413179  \n",
       "min         NaN      NaN    0.000000  \n",
       "25%         NaN      NaN    0.000000  \n",
       "50%         NaN      NaN    0.000000  \n",
       "75%         NaN      NaN    0.000000  \n",
       "max         NaN      NaN    1.000000  "
      ]
     },
     "execution_count": 13,
     "metadata": {},
     "output_type": "execute_result"
    }
   ],
   "source": [
    "test_data.describe(include = 'all')"
   ]
  },
  {
   "cell_type": "markdown",
   "id": "bf9aee1a",
   "metadata": {
    "papermill": {
     "duration": 0.022587,
     "end_time": "2022-09-17T04:43:08.683313",
     "exception": false,
     "start_time": "2022-09-17T04:43:08.660726",
     "status": "completed"
    },
    "tags": []
   },
   "source": [
    "# Ticket\n",
    "We can drop this feature as it has no effect on the survival of passengers."
   ]
  },
  {
   "cell_type": "code",
   "execution_count": 14,
   "id": "137cec9b",
   "metadata": {
    "execution": {
     "iopub.execute_input": "2022-09-17T04:43:08.730638Z",
     "iopub.status.busy": "2022-09-17T04:43:08.730188Z",
     "iopub.status.idle": "2022-09-17T04:43:08.739577Z",
     "shell.execute_reply": "2022-09-17T04:43:08.738386Z"
    },
    "papermill": {
     "duration": 0.036217,
     "end_time": "2022-09-17T04:43:08.741996",
     "exception": false,
     "start_time": "2022-09-17T04:43:08.705779",
     "status": "completed"
    },
    "tags": []
   },
   "outputs": [],
   "source": [
    "train_data = train_data.drop(['Ticket'], axis = 1)\n",
    "test_data = test_data.drop(['Ticket'], axis = 1)\n"
   ]
  },
  {
   "cell_type": "markdown",
   "id": "e4f3d07c",
   "metadata": {
    "papermill": {
     "duration": 0.023275,
     "end_time": "2022-09-17T04:43:08.788021",
     "exception": false,
     "start_time": "2022-09-17T04:43:08.764746",
     "status": "completed"
    },
    "tags": []
   },
   "source": [
    "# Cabin\n",
    "\n",
    "If we look into the data 77% of Cabin data is missing from the train_data.We should not try to replace this much of missing data.Therfore we will drop the cabin data from the train and test data sets.\n",
    "\n"
   ]
  },
  {
   "cell_type": "code",
   "execution_count": 15,
   "id": "c71e2a40",
   "metadata": {
    "execution": {
     "iopub.execute_input": "2022-09-17T04:43:08.838798Z",
     "iopub.status.busy": "2022-09-17T04:43:08.838396Z",
     "iopub.status.idle": "2022-09-17T04:43:08.845462Z",
     "shell.execute_reply": "2022-09-17T04:43:08.844517Z"
    },
    "papermill": {
     "duration": 0.035813,
     "end_time": "2022-09-17T04:43:08.847812",
     "exception": false,
     "start_time": "2022-09-17T04:43:08.811999",
     "status": "completed"
    },
    "tags": []
   },
   "outputs": [],
   "source": [
    "#dropping Cabin column from train and test data set.\n",
    "\n",
    "train_data = train_data.drop(['Cabin'],axis = 1)\n",
    "test_data = test_data.drop(['Cabin'],axis = 1)"
   ]
  },
  {
   "cell_type": "markdown",
   "id": "82930b1a",
   "metadata": {
    "papermill": {
     "duration": 0.022358,
     "end_time": "2022-09-17T04:43:08.893346",
     "exception": false,
     "start_time": "2022-09-17T04:43:08.870988",
     "status": "completed"
    },
    "tags": []
   },
   "source": [
    "# Age"
   ]
  },
  {
   "cell_type": "markdown",
   "id": "4241b9ad",
   "metadata": {
    "papermill": {
     "duration": 0.021875,
     "end_time": "2022-09-17T04:43:08.937702",
     "exception": false,
     "start_time": "2022-09-17T04:43:08.915827",
     "status": "completed"
    },
    "tags": []
   },
   "source": [
    "Age column is missing about 20% of the values in the training dataset. Now we will have to fill these missing values."
   ]
  },
  {
   "cell_type": "code",
   "execution_count": 16,
   "id": "dcd8ee70",
   "metadata": {
    "execution": {
     "iopub.execute_input": "2022-09-17T04:43:08.984553Z",
     "iopub.status.busy": "2022-09-17T04:43:08.983804Z",
     "iopub.status.idle": "2022-09-17T04:43:09.016527Z",
     "shell.execute_reply": "2022-09-17T04:43:09.015440Z"
    },
    "papermill": {
     "duration": 0.059018,
     "end_time": "2022-09-17T04:43:09.019053",
     "exception": false,
     "start_time": "2022-09-17T04:43:08.960035",
     "status": "completed"
    },
    "tags": []
   },
   "outputs": [
    {
     "data": {
      "text/html": [
       "<div>\n",
       "<style scoped>\n",
       "    .dataframe tbody tr th:only-of-type {\n",
       "        vertical-align: middle;\n",
       "    }\n",
       "\n",
       "    .dataframe tbody tr th {\n",
       "        vertical-align: top;\n",
       "    }\n",
       "\n",
       "    .dataframe thead th {\n",
       "        text-align: right;\n",
       "    }\n",
       "</style>\n",
       "<table border=\"1\" class=\"dataframe\">\n",
       "  <thead>\n",
       "    <tr style=\"text-align: right;\">\n",
       "      <th>Sex</th>\n",
       "      <th>female</th>\n",
       "      <th>male</th>\n",
       "    </tr>\n",
       "    <tr>\n",
       "      <th>Title</th>\n",
       "      <th></th>\n",
       "      <th></th>\n",
       "    </tr>\n",
       "  </thead>\n",
       "  <tbody>\n",
       "    <tr>\n",
       "      <th>Don</th>\n",
       "      <td>0</td>\n",
       "      <td>1</td>\n",
       "    </tr>\n",
       "    <tr>\n",
       "      <th>Dr</th>\n",
       "      <td>0</td>\n",
       "      <td>3</td>\n",
       "    </tr>\n",
       "    <tr>\n",
       "      <th>Master</th>\n",
       "      <td>9</td>\n",
       "      <td>14</td>\n",
       "    </tr>\n",
       "    <tr>\n",
       "      <th>Miss</th>\n",
       "      <td>37</td>\n",
       "      <td>64</td>\n",
       "    </tr>\n",
       "    <tr>\n",
       "      <th>Mme</th>\n",
       "      <td>0</td>\n",
       "      <td>1</td>\n",
       "    </tr>\n",
       "    <tr>\n",
       "      <th>Mr</th>\n",
       "      <td>83</td>\n",
       "      <td>145</td>\n",
       "    </tr>\n",
       "    <tr>\n",
       "      <th>Mrs</th>\n",
       "      <td>21</td>\n",
       "      <td>37</td>\n",
       "    </tr>\n",
       "    <tr>\n",
       "      <th>Rev</th>\n",
       "      <td>2</td>\n",
       "      <td>1</td>\n",
       "    </tr>\n",
       "  </tbody>\n",
       "</table>\n",
       "</div>"
      ],
      "text/plain": [
       "Sex     female  male\n",
       "Title               \n",
       "Don          0     1\n",
       "Dr           0     3\n",
       "Master       9    14\n",
       "Miss        37    64\n",
       "Mme          0     1\n",
       "Mr          83   145\n",
       "Mrs         21    37\n",
       "Rev          2     1"
      ]
     },
     "execution_count": 16,
     "metadata": {},
     "output_type": "execute_result"
    }
   ],
   "source": [
    "#creating a combined group of both datasets\n",
    "combine = [train_data , test_data]\n",
    "\n",
    "#extracting the title of each name from both datasets\n",
    "for title in combine:\n",
    "    title['Title'] = title.Name.str.extract(' ([A-Za-z]+)\\.',expand = False)\n",
    "                                            \n",
    "pd.crosstab(train_data['Title'],test_data['Sex'])"
   ]
  },
  {
   "cell_type": "code",
   "execution_count": 17,
   "id": "1260fe26",
   "metadata": {
    "execution": {
     "iopub.execute_input": "2022-09-17T04:43:09.066304Z",
     "iopub.status.busy": "2022-09-17T04:43:09.065886Z",
     "iopub.status.idle": "2022-09-17T04:43:09.076293Z",
     "shell.execute_reply": "2022-09-17T04:43:09.075139Z"
    },
    "papermill": {
     "duration": 0.037139,
     "end_time": "2022-09-17T04:43:09.078911",
     "exception": false,
     "start_time": "2022-09-17T04:43:09.041772",
     "status": "completed"
    },
    "tags": []
   },
   "outputs": [],
   "source": [
    "#mapping each of the title group to a numerical value\n",
    "title_mapping = {'Don': 1, 'Dr': 2, 'Master' : 3, 'Miss' : 4, 'Mme' : 5, 'Mr' : 6, 'Mrs' : 7,\n",
    "                'Rev': 8}\n",
    "\n",
    "for title in combine:\n",
    "    title['Title'] = title['Title'].map(title_mapping)\n",
    "    title[\"Title\"] = title[\"Title\"].fillna(0)\n",
    "    "
   ]
  },
  {
   "cell_type": "code",
   "execution_count": 18,
   "id": "29bf8ef8",
   "metadata": {
    "execution": {
     "iopub.execute_input": "2022-09-17T04:43:09.126721Z",
     "iopub.status.busy": "2022-09-17T04:43:09.125900Z",
     "iopub.status.idle": "2022-09-17T04:43:09.222006Z",
     "shell.execute_reply": "2022-09-17T04:43:09.220869Z"
    },
    "papermill": {
     "duration": 0.12295,
     "end_time": "2022-09-17T04:43:09.224642",
     "exception": false,
     "start_time": "2022-09-17T04:43:09.101692",
     "status": "completed"
    },
    "tags": []
   },
   "outputs": [],
   "source": [
    "#Filling the missing age with mode age group for each title\n",
    "Don_age = train_data[train_data['Title']==1]['AgeGroup'].mode     #senior\n",
    "Dr_age = train_data[train_data['Title']==2]['AgeGroup'].mode      #Adult\n",
    "Master_age = train_data[train_data['Title']==3]['AgeGroup'].mode  #Adult\n",
    "Miss_age = train_data[train_data['Title']==4]['AgeGroup'].mode    #Student\n",
    "Mme_age = train_data[train_data['Title']==5]['AgeGroup'].mode     #Adult\n",
    "Mr_age = train_data[train_data['Title']==6]['AgeGroup'].mode      #Student\n",
    "Mrs_age = train_data[train_data['Title']==7]['AgeGroup'].mode     #Adult\n",
    "Rev_age = train_data[train_data['Title']==8]['AgeGroup'].mode     #Senior\n",
    "\n",
    "age_title_mapping = {1 : 'Senior', 2 : 'Adult', 3 : 'Adult', 4 : 'Student', 5: 'Adult', 6: 'Student', 7 : 'Adult', 8: 'Senior'}\n",
    "\n",
    "for i in range(len(train_data['AgeGroup'])):\n",
    "    if train_data['AgeGroup'][i] == 'Unknown':\n",
    "        train_data['AgeGroup'][i] = age_title_mapping[train_data['Title'][i]]\n",
    "        \n"
   ]
  },
  {
   "cell_type": "code",
   "execution_count": 19,
   "id": "595466d3",
   "metadata": {
    "execution": {
     "iopub.execute_input": "2022-09-17T04:43:09.271928Z",
     "iopub.status.busy": "2022-09-17T04:43:09.271511Z",
     "iopub.status.idle": "2022-09-17T04:43:09.280372Z",
     "shell.execute_reply": "2022-09-17T04:43:09.279039Z"
    },
    "papermill": {
     "duration": 0.035538,
     "end_time": "2022-09-17T04:43:09.282926",
     "exception": false,
     "start_time": "2022-09-17T04:43:09.247388",
     "status": "completed"
    },
    "tags": []
   },
   "outputs": [],
   "source": [
    "#map each Age value to a numerical value\n",
    "age_mapping = {'Baby': 1, 'Child': 2, 'Teenager': 3, 'Student': 4, 'Young Adult': 5, 'Adult': 6, 'Senior': 7}\n",
    "train_data['AgeGroup'] = train_data['AgeGroup'].map(age_mapping)\n",
    "test_data['AgeGroup'] = test_data['AgeGroup'].map(age_mapping)\n"
   ]
  },
  {
   "cell_type": "markdown",
   "id": "51242ee1",
   "metadata": {
    "papermill": {
     "duration": 0.022307,
     "end_time": "2022-09-17T04:43:09.327917",
     "exception": false,
     "start_time": "2022-09-17T04:43:09.305610",
     "status": "completed"
    },
    "tags": []
   },
   "source": [
    "# Name\n",
    "As we have extracted the titles from the names, we can now drop the name column."
   ]
  },
  {
   "cell_type": "code",
   "execution_count": 20,
   "id": "f55a3e56",
   "metadata": {
    "execution": {
     "iopub.execute_input": "2022-09-17T04:43:09.377132Z",
     "iopub.status.busy": "2022-09-17T04:43:09.375871Z",
     "iopub.status.idle": "2022-09-17T04:43:09.383618Z",
     "shell.execute_reply": "2022-09-17T04:43:09.382673Z"
    },
    "papermill": {
     "duration": 0.034794,
     "end_time": "2022-09-17T04:43:09.385856",
     "exception": false,
     "start_time": "2022-09-17T04:43:09.351062",
     "status": "completed"
    },
    "tags": []
   },
   "outputs": [],
   "source": [
    "#Dropping Name title\n",
    "train_data = train_data.drop(['Name'], axis = 1)\n",
    "test_data = test_data.drop(['Name'], axis = 1)"
   ]
  },
  {
   "cell_type": "markdown",
   "id": "5adfc74c",
   "metadata": {
    "papermill": {
     "duration": 0.022267,
     "end_time": "2022-09-17T04:43:09.430905",
     "exception": false,
     "start_time": "2022-09-17T04:43:09.408638",
     "status": "completed"
    },
    "tags": []
   },
   "source": [
    "# Sex\n",
    "Now we will map the sex column to numerical values."
   ]
  },
  {
   "cell_type": "code",
   "execution_count": 21,
   "id": "37c3b3a7",
   "metadata": {
    "execution": {
     "iopub.execute_input": "2022-09-17T04:43:09.479827Z",
     "iopub.status.busy": "2022-09-17T04:43:09.478783Z",
     "iopub.status.idle": "2022-09-17T04:43:09.487849Z",
     "shell.execute_reply": "2022-09-17T04:43:09.486553Z"
    },
    "papermill": {
     "duration": 0.035955,
     "end_time": "2022-09-17T04:43:09.490294",
     "exception": false,
     "start_time": "2022-09-17T04:43:09.454339",
     "status": "completed"
    },
    "tags": []
   },
   "outputs": [],
   "source": [
    "#Mapping Sex to numerical value\n",
    "Sex_mapping = { 'male' : 0 , 'female' : 1}\n",
    "train_data['Sex'] = train_data['Sex'].map(Sex_mapping)\n",
    "test_data['Sex'] = test_data['Sex'].map(Sex_mapping)"
   ]
  },
  {
   "cell_type": "code",
   "execution_count": 22,
   "id": "472cf5a1",
   "metadata": {
    "execution": {
     "iopub.execute_input": "2022-09-17T04:43:09.537522Z",
     "iopub.status.busy": "2022-09-17T04:43:09.537121Z",
     "iopub.status.idle": "2022-09-17T04:43:09.553947Z",
     "shell.execute_reply": "2022-09-17T04:43:09.552668Z"
    },
    "papermill": {
     "duration": 0.043402,
     "end_time": "2022-09-17T04:43:09.556425",
     "exception": false,
     "start_time": "2022-09-17T04:43:09.513023",
     "status": "completed"
    },
    "tags": []
   },
   "outputs": [
    {
     "data": {
      "text/html": [
       "<div>\n",
       "<style scoped>\n",
       "    .dataframe tbody tr th:only-of-type {\n",
       "        vertical-align: middle;\n",
       "    }\n",
       "\n",
       "    .dataframe tbody tr th {\n",
       "        vertical-align: top;\n",
       "    }\n",
       "\n",
       "    .dataframe thead th {\n",
       "        text-align: right;\n",
       "    }\n",
       "</style>\n",
       "<table border=\"1\" class=\"dataframe\">\n",
       "  <thead>\n",
       "    <tr style=\"text-align: right;\">\n",
       "      <th></th>\n",
       "      <th>PassengerId</th>\n",
       "      <th>Survived</th>\n",
       "      <th>Pclass</th>\n",
       "      <th>Sex</th>\n",
       "      <th>Age</th>\n",
       "      <th>SibSp</th>\n",
       "      <th>Parch</th>\n",
       "      <th>Fare</th>\n",
       "      <th>Embarked</th>\n",
       "      <th>AgeGroup</th>\n",
       "      <th>Cabin_num</th>\n",
       "      <th>Title</th>\n",
       "    </tr>\n",
       "  </thead>\n",
       "  <tbody>\n",
       "    <tr>\n",
       "      <th>0</th>\n",
       "      <td>1</td>\n",
       "      <td>0</td>\n",
       "      <td>3</td>\n",
       "      <td>0</td>\n",
       "      <td>22.0</td>\n",
       "      <td>1</td>\n",
       "      <td>0</td>\n",
       "      <td>7.2500</td>\n",
       "      <td>S</td>\n",
       "      <td>4.0</td>\n",
       "      <td>0</td>\n",
       "      <td>6.0</td>\n",
       "    </tr>\n",
       "    <tr>\n",
       "      <th>1</th>\n",
       "      <td>2</td>\n",
       "      <td>1</td>\n",
       "      <td>1</td>\n",
       "      <td>1</td>\n",
       "      <td>38.0</td>\n",
       "      <td>1</td>\n",
       "      <td>0</td>\n",
       "      <td>71.2833</td>\n",
       "      <td>C</td>\n",
       "      <td>6.0</td>\n",
       "      <td>1</td>\n",
       "      <td>7.0</td>\n",
       "    </tr>\n",
       "    <tr>\n",
       "      <th>2</th>\n",
       "      <td>3</td>\n",
       "      <td>1</td>\n",
       "      <td>3</td>\n",
       "      <td>1</td>\n",
       "      <td>26.0</td>\n",
       "      <td>0</td>\n",
       "      <td>0</td>\n",
       "      <td>7.9250</td>\n",
       "      <td>S</td>\n",
       "      <td>5.0</td>\n",
       "      <td>0</td>\n",
       "      <td>4.0</td>\n",
       "    </tr>\n",
       "    <tr>\n",
       "      <th>3</th>\n",
       "      <td>4</td>\n",
       "      <td>1</td>\n",
       "      <td>1</td>\n",
       "      <td>1</td>\n",
       "      <td>35.0</td>\n",
       "      <td>1</td>\n",
       "      <td>0</td>\n",
       "      <td>53.1000</td>\n",
       "      <td>S</td>\n",
       "      <td>6.0</td>\n",
       "      <td>1</td>\n",
       "      <td>7.0</td>\n",
       "    </tr>\n",
       "    <tr>\n",
       "      <th>4</th>\n",
       "      <td>5</td>\n",
       "      <td>0</td>\n",
       "      <td>3</td>\n",
       "      <td>0</td>\n",
       "      <td>35.0</td>\n",
       "      <td>0</td>\n",
       "      <td>0</td>\n",
       "      <td>8.0500</td>\n",
       "      <td>S</td>\n",
       "      <td>6.0</td>\n",
       "      <td>0</td>\n",
       "      <td>6.0</td>\n",
       "    </tr>\n",
       "  </tbody>\n",
       "</table>\n",
       "</div>"
      ],
      "text/plain": [
       "   PassengerId  Survived  Pclass  Sex   Age  SibSp  Parch     Fare Embarked  \\\n",
       "0            1         0       3    0  22.0      1      0   7.2500        S   \n",
       "1            2         1       1    1  38.0      1      0  71.2833        C   \n",
       "2            3         1       3    1  26.0      0      0   7.9250        S   \n",
       "3            4         1       1    1  35.0      1      0  53.1000        S   \n",
       "4            5         0       3    0  35.0      0      0   8.0500        S   \n",
       "\n",
       "   AgeGroup  Cabin_num  Title  \n",
       "0       4.0          0    6.0  \n",
       "1       6.0          1    7.0  \n",
       "2       5.0          0    4.0  \n",
       "3       6.0          1    7.0  \n",
       "4       6.0          0    6.0  "
      ]
     },
     "execution_count": 22,
     "metadata": {},
     "output_type": "execute_result"
    }
   ],
   "source": [
    "train_data.head()"
   ]
  },
  {
   "cell_type": "markdown",
   "id": "bdc868af",
   "metadata": {
    "papermill": {
     "duration": 0.022686,
     "end_time": "2022-09-17T04:43:09.602705",
     "exception": false,
     "start_time": "2022-09-17T04:43:09.580019",
     "status": "completed"
    },
    "tags": []
   },
   "source": [
    "# Embarked \n",
    "There are 2 values missing in the embarked column. We will fill them."
   ]
  },
  {
   "cell_type": "code",
   "execution_count": 23,
   "id": "1086ae35",
   "metadata": {
    "execution": {
     "iopub.execute_input": "2022-09-17T04:43:09.651268Z",
     "iopub.status.busy": "2022-09-17T04:43:09.650871Z",
     "iopub.status.idle": "2022-09-17T04:43:09.662261Z",
     "shell.execute_reply": "2022-09-17T04:43:09.660759Z"
    },
    "papermill": {
     "duration": 0.038297,
     "end_time": "2022-09-17T04:43:09.664600",
     "exception": false,
     "start_time": "2022-09-17T04:43:09.626303",
     "status": "completed"
    },
    "tags": []
   },
   "outputs": [
    {
     "name": "stdout",
     "output_type": "stream",
     "text": [
      "Number of people Embarked in Southampton (S) :  644\n",
      "Number of people Embarked in Southampton (C) :  168\n",
      "Number of people Embarked in Southampton (Q) :  77\n"
     ]
    }
   ],
   "source": [
    "# Looking at the different Embarked values\n",
    "Southampton = train_data[train_data['Embarked']=='S'].shape[0]\n",
    "print('Number of people Embarked in Southampton (S) : ',Southampton)\n",
    "\n",
    "Cherbourg = train_data[train_data['Embarked']=='C'].shape[0]\n",
    "print('Number of people Embarked in Southampton (C) : ',Cherbourg)\n",
    "\n",
    "Queenstown = train_data[train_data['Embarked']=='Q'].shape[0]\n",
    "print('Number of people Embarked in Southampton (Q) : ',Queenstown)\n",
    "\n",
    "\n",
    "\n"
   ]
  },
  {
   "cell_type": "markdown",
   "id": "9d2f4a2f",
   "metadata": {
    "papermill": {
     "duration": 0.022649,
     "end_time": "2022-09-17T04:43:09.710647",
     "exception": false,
     "start_time": "2022-09-17T04:43:09.687998",
     "status": "completed"
    },
    "tags": []
   },
   "source": [
    "We can see that most of the people embarked from Southampton, therefore we will fill the missing values with Southamption(S)."
   ]
  },
  {
   "cell_type": "code",
   "execution_count": 24,
   "id": "e9af8e3e",
   "metadata": {
    "execution": {
     "iopub.execute_input": "2022-09-17T04:43:09.760465Z",
     "iopub.status.busy": "2022-09-17T04:43:09.760022Z",
     "iopub.status.idle": "2022-09-17T04:43:09.766943Z",
     "shell.execute_reply": "2022-09-17T04:43:09.765774Z"
    },
    "papermill": {
     "duration": 0.034435,
     "end_time": "2022-09-17T04:43:09.769415",
     "exception": false,
     "start_time": "2022-09-17T04:43:09.734980",
     "status": "completed"
    },
    "tags": []
   },
   "outputs": [],
   "source": [
    "#Filling the missing embarked values with S\n",
    "train_data = train_data.fillna({'Embarked' : 'S'})"
   ]
  },
  {
   "cell_type": "markdown",
   "id": "e8178ba1",
   "metadata": {
    "papermill": {
     "duration": 0.022669,
     "end_time": "2022-09-17T04:43:09.815098",
     "exception": false,
     "start_time": "2022-09-17T04:43:09.792429",
     "status": "completed"
    },
    "tags": []
   },
   "source": [
    "\n",
    "Now we will map the embarked column to numerical values\n"
   ]
  },
  {
   "cell_type": "code",
   "execution_count": 25,
   "id": "c7225e48",
   "metadata": {
    "execution": {
     "iopub.execute_input": "2022-09-17T04:43:09.863612Z",
     "iopub.status.busy": "2022-09-17T04:43:09.863193Z",
     "iopub.status.idle": "2022-09-17T04:43:09.871936Z",
     "shell.execute_reply": "2022-09-17T04:43:09.870672Z"
    },
    "papermill": {
     "duration": 0.036394,
     "end_time": "2022-09-17T04:43:09.874399",
     "exception": false,
     "start_time": "2022-09-17T04:43:09.838005",
     "status": "completed"
    },
    "tags": []
   },
   "outputs": [],
   "source": [
    "\n",
    "#mapping Embarked column to numerical values\n",
    "Embarked_mapping = {'S' : 1, 'C' : 2, 'Q' : 3}\n",
    "train_data['Embarked'] = train_data['Embarked'].map(Embarked_mapping)\n",
    "test_data['Embarked'] = test_data['Embarked'].map(Embarked_mapping)"
   ]
  },
  {
   "cell_type": "code",
   "execution_count": 26,
   "id": "a8f6bfea",
   "metadata": {
    "execution": {
     "iopub.execute_input": "2022-09-17T04:43:09.924578Z",
     "iopub.status.busy": "2022-09-17T04:43:09.923408Z",
     "iopub.status.idle": "2022-09-17T04:43:09.941030Z",
     "shell.execute_reply": "2022-09-17T04:43:09.939890Z"
    },
    "papermill": {
     "duration": 0.04476,
     "end_time": "2022-09-17T04:43:09.943320",
     "exception": false,
     "start_time": "2022-09-17T04:43:09.898560",
     "status": "completed"
    },
    "tags": []
   },
   "outputs": [
    {
     "data": {
      "text/html": [
       "<div>\n",
       "<style scoped>\n",
       "    .dataframe tbody tr th:only-of-type {\n",
       "        vertical-align: middle;\n",
       "    }\n",
       "\n",
       "    .dataframe tbody tr th {\n",
       "        vertical-align: top;\n",
       "    }\n",
       "\n",
       "    .dataframe thead th {\n",
       "        text-align: right;\n",
       "    }\n",
       "</style>\n",
       "<table border=\"1\" class=\"dataframe\">\n",
       "  <thead>\n",
       "    <tr style=\"text-align: right;\">\n",
       "      <th></th>\n",
       "      <th>PassengerId</th>\n",
       "      <th>Survived</th>\n",
       "      <th>Pclass</th>\n",
       "      <th>Sex</th>\n",
       "      <th>Age</th>\n",
       "      <th>SibSp</th>\n",
       "      <th>Parch</th>\n",
       "      <th>Fare</th>\n",
       "      <th>Embarked</th>\n",
       "      <th>AgeGroup</th>\n",
       "      <th>Cabin_num</th>\n",
       "      <th>Title</th>\n",
       "    </tr>\n",
       "  </thead>\n",
       "  <tbody>\n",
       "    <tr>\n",
       "      <th>0</th>\n",
       "      <td>1</td>\n",
       "      <td>0</td>\n",
       "      <td>3</td>\n",
       "      <td>0</td>\n",
       "      <td>22.0</td>\n",
       "      <td>1</td>\n",
       "      <td>0</td>\n",
       "      <td>7.2500</td>\n",
       "      <td>1</td>\n",
       "      <td>4.0</td>\n",
       "      <td>0</td>\n",
       "      <td>6.0</td>\n",
       "    </tr>\n",
       "    <tr>\n",
       "      <th>1</th>\n",
       "      <td>2</td>\n",
       "      <td>1</td>\n",
       "      <td>1</td>\n",
       "      <td>1</td>\n",
       "      <td>38.0</td>\n",
       "      <td>1</td>\n",
       "      <td>0</td>\n",
       "      <td>71.2833</td>\n",
       "      <td>2</td>\n",
       "      <td>6.0</td>\n",
       "      <td>1</td>\n",
       "      <td>7.0</td>\n",
       "    </tr>\n",
       "    <tr>\n",
       "      <th>2</th>\n",
       "      <td>3</td>\n",
       "      <td>1</td>\n",
       "      <td>3</td>\n",
       "      <td>1</td>\n",
       "      <td>26.0</td>\n",
       "      <td>0</td>\n",
       "      <td>0</td>\n",
       "      <td>7.9250</td>\n",
       "      <td>1</td>\n",
       "      <td>5.0</td>\n",
       "      <td>0</td>\n",
       "      <td>4.0</td>\n",
       "    </tr>\n",
       "    <tr>\n",
       "      <th>3</th>\n",
       "      <td>4</td>\n",
       "      <td>1</td>\n",
       "      <td>1</td>\n",
       "      <td>1</td>\n",
       "      <td>35.0</td>\n",
       "      <td>1</td>\n",
       "      <td>0</td>\n",
       "      <td>53.1000</td>\n",
       "      <td>1</td>\n",
       "      <td>6.0</td>\n",
       "      <td>1</td>\n",
       "      <td>7.0</td>\n",
       "    </tr>\n",
       "    <tr>\n",
       "      <th>4</th>\n",
       "      <td>5</td>\n",
       "      <td>0</td>\n",
       "      <td>3</td>\n",
       "      <td>0</td>\n",
       "      <td>35.0</td>\n",
       "      <td>0</td>\n",
       "      <td>0</td>\n",
       "      <td>8.0500</td>\n",
       "      <td>1</td>\n",
       "      <td>6.0</td>\n",
       "      <td>0</td>\n",
       "      <td>6.0</td>\n",
       "    </tr>\n",
       "  </tbody>\n",
       "</table>\n",
       "</div>"
      ],
      "text/plain": [
       "   PassengerId  Survived  Pclass  Sex   Age  SibSp  Parch     Fare  Embarked  \\\n",
       "0            1         0       3    0  22.0      1      0   7.2500         1   \n",
       "1            2         1       1    1  38.0      1      0  71.2833         2   \n",
       "2            3         1       3    1  26.0      0      0   7.9250         1   \n",
       "3            4         1       1    1  35.0      1      0  53.1000         1   \n",
       "4            5         0       3    0  35.0      0      0   8.0500         1   \n",
       "\n",
       "   AgeGroup  Cabin_num  Title  \n",
       "0       4.0          0    6.0  \n",
       "1       6.0          1    7.0  \n",
       "2       5.0          0    4.0  \n",
       "3       6.0          1    7.0  \n",
       "4       6.0          0    6.0  "
      ]
     },
     "execution_count": 26,
     "metadata": {},
     "output_type": "execute_result"
    }
   ],
   "source": [
    "train_data.head()"
   ]
  },
  {
   "cell_type": "markdown",
   "id": "7b8018f3",
   "metadata": {
    "papermill": {
     "duration": 0.023618,
     "end_time": "2022-09-17T04:43:09.990547",
     "exception": false,
     "start_time": "2022-09-17T04:43:09.966929",
     "status": "completed"
    },
    "tags": []
   },
   "source": [
    "# Fare\n",
    "Now we will try to fit the fare values into some logical groups. Fare is missing one value we will fill it."
   ]
  },
  {
   "cell_type": "code",
   "execution_count": 27,
   "id": "abdab9bc",
   "metadata": {
    "execution": {
     "iopub.execute_input": "2022-09-17T04:43:10.039573Z",
     "iopub.status.busy": "2022-09-17T04:43:10.039178Z",
     "iopub.status.idle": "2022-09-17T04:43:10.059199Z",
     "shell.execute_reply": "2022-09-17T04:43:10.058123Z"
    },
    "papermill": {
     "duration": 0.047749,
     "end_time": "2022-09-17T04:43:10.061882",
     "exception": false,
     "start_time": "2022-09-17T04:43:10.014133",
     "status": "completed"
    },
    "tags": []
   },
   "outputs": [],
   "source": [
    "#filling the missing Fare value in test set based on mean fare for that Pclass \n",
    "for x in range(len(test_data[\"Fare\"])):\n",
    "    if pd.isnull(test_data[\"Fare\"][x]):\n",
    "        pclass = test_data[\"Pclass\"][x] #Pclass = 3\n",
    "        test_data[\"Fare\"][x] = round(train_data[train_data[\"Pclass\"] == pclass][\"Fare\"].mean(), 4)\n",
    "        \n",
    "        \n",
    "# Fitting fare values into logical groups\n",
    "train_data['Fareband']= pd.qcut(train_data['Fare'], 4, labels = [1,2,3,4])\n",
    "test_data['Fareband']= pd.qcut(test_data['Fare'], 4, labels = [1,2,3,4])\n",
    "\n"
   ]
  },
  {
   "cell_type": "code",
   "execution_count": 28,
   "id": "9e638e1b",
   "metadata": {
    "execution": {
     "iopub.execute_input": "2022-09-17T04:43:10.111150Z",
     "iopub.status.busy": "2022-09-17T04:43:10.110735Z",
     "iopub.status.idle": "2022-09-17T04:43:10.129878Z",
     "shell.execute_reply": "2022-09-17T04:43:10.128648Z"
    },
    "papermill": {
     "duration": 0.046857,
     "end_time": "2022-09-17T04:43:10.132132",
     "exception": false,
     "start_time": "2022-09-17T04:43:10.085275",
     "status": "completed"
    },
    "tags": []
   },
   "outputs": [
    {
     "data": {
      "text/html": [
       "<div>\n",
       "<style scoped>\n",
       "    .dataframe tbody tr th:only-of-type {\n",
       "        vertical-align: middle;\n",
       "    }\n",
       "\n",
       "    .dataframe tbody tr th {\n",
       "        vertical-align: top;\n",
       "    }\n",
       "\n",
       "    .dataframe thead th {\n",
       "        text-align: right;\n",
       "    }\n",
       "</style>\n",
       "<table border=\"1\" class=\"dataframe\">\n",
       "  <thead>\n",
       "    <tr style=\"text-align: right;\">\n",
       "      <th></th>\n",
       "      <th>PassengerId</th>\n",
       "      <th>Survived</th>\n",
       "      <th>Pclass</th>\n",
       "      <th>Sex</th>\n",
       "      <th>Age</th>\n",
       "      <th>SibSp</th>\n",
       "      <th>Parch</th>\n",
       "      <th>Fare</th>\n",
       "      <th>Embarked</th>\n",
       "      <th>AgeGroup</th>\n",
       "      <th>Cabin_num</th>\n",
       "      <th>Title</th>\n",
       "      <th>Fareband</th>\n",
       "    </tr>\n",
       "  </thead>\n",
       "  <tbody>\n",
       "    <tr>\n",
       "      <th>0</th>\n",
       "      <td>1</td>\n",
       "      <td>0</td>\n",
       "      <td>3</td>\n",
       "      <td>0</td>\n",
       "      <td>22.0</td>\n",
       "      <td>1</td>\n",
       "      <td>0</td>\n",
       "      <td>7.2500</td>\n",
       "      <td>1</td>\n",
       "      <td>4.0</td>\n",
       "      <td>0</td>\n",
       "      <td>6.0</td>\n",
       "      <td>1</td>\n",
       "    </tr>\n",
       "    <tr>\n",
       "      <th>1</th>\n",
       "      <td>2</td>\n",
       "      <td>1</td>\n",
       "      <td>1</td>\n",
       "      <td>1</td>\n",
       "      <td>38.0</td>\n",
       "      <td>1</td>\n",
       "      <td>0</td>\n",
       "      <td>71.2833</td>\n",
       "      <td>2</td>\n",
       "      <td>6.0</td>\n",
       "      <td>1</td>\n",
       "      <td>7.0</td>\n",
       "      <td>4</td>\n",
       "    </tr>\n",
       "    <tr>\n",
       "      <th>2</th>\n",
       "      <td>3</td>\n",
       "      <td>1</td>\n",
       "      <td>3</td>\n",
       "      <td>1</td>\n",
       "      <td>26.0</td>\n",
       "      <td>0</td>\n",
       "      <td>0</td>\n",
       "      <td>7.9250</td>\n",
       "      <td>1</td>\n",
       "      <td>5.0</td>\n",
       "      <td>0</td>\n",
       "      <td>4.0</td>\n",
       "      <td>2</td>\n",
       "    </tr>\n",
       "    <tr>\n",
       "      <th>3</th>\n",
       "      <td>4</td>\n",
       "      <td>1</td>\n",
       "      <td>1</td>\n",
       "      <td>1</td>\n",
       "      <td>35.0</td>\n",
       "      <td>1</td>\n",
       "      <td>0</td>\n",
       "      <td>53.1000</td>\n",
       "      <td>1</td>\n",
       "      <td>6.0</td>\n",
       "      <td>1</td>\n",
       "      <td>7.0</td>\n",
       "      <td>4</td>\n",
       "    </tr>\n",
       "    <tr>\n",
       "      <th>4</th>\n",
       "      <td>5</td>\n",
       "      <td>0</td>\n",
       "      <td>3</td>\n",
       "      <td>0</td>\n",
       "      <td>35.0</td>\n",
       "      <td>0</td>\n",
       "      <td>0</td>\n",
       "      <td>8.0500</td>\n",
       "      <td>1</td>\n",
       "      <td>6.0</td>\n",
       "      <td>0</td>\n",
       "      <td>6.0</td>\n",
       "      <td>2</td>\n",
       "    </tr>\n",
       "  </tbody>\n",
       "</table>\n",
       "</div>"
      ],
      "text/plain": [
       "   PassengerId  Survived  Pclass  Sex   Age  SibSp  Parch     Fare  Embarked  \\\n",
       "0            1         0       3    0  22.0      1      0   7.2500         1   \n",
       "1            2         1       1    1  38.0      1      0  71.2833         2   \n",
       "2            3         1       3    1  26.0      0      0   7.9250         1   \n",
       "3            4         1       1    1  35.0      1      0  53.1000         1   \n",
       "4            5         0       3    0  35.0      0      0   8.0500         1   \n",
       "\n",
       "   AgeGroup  Cabin_num  Title Fareband  \n",
       "0       4.0          0    6.0        1  \n",
       "1       6.0          1    7.0        4  \n",
       "2       5.0          0    4.0        2  \n",
       "3       6.0          1    7.0        4  \n",
       "4       6.0          0    6.0        2  "
      ]
     },
     "execution_count": 28,
     "metadata": {},
     "output_type": "execute_result"
    }
   ],
   "source": [
    "train_data.head()"
   ]
  },
  {
   "cell_type": "markdown",
   "id": "21731073",
   "metadata": {
    "papermill": {
     "duration": 0.023324,
     "end_time": "2022-09-17T04:43:10.179164",
     "exception": false,
     "start_time": "2022-09-17T04:43:10.155840",
     "status": "completed"
    },
    "tags": []
   },
   "source": [
    "We have mapped both Age and Fare column in a group of logical values - AgeGroup and Fareband. So, we will drop both Age and Fare columns from the data."
   ]
  },
  {
   "cell_type": "code",
   "execution_count": 29,
   "id": "693d2ed6",
   "metadata": {
    "execution": {
     "iopub.execute_input": "2022-09-17T04:43:10.228701Z",
     "iopub.status.busy": "2022-09-17T04:43:10.228231Z",
     "iopub.status.idle": "2022-09-17T04:43:10.238562Z",
     "shell.execute_reply": "2022-09-17T04:43:10.237471Z"
    },
    "papermill": {
     "duration": 0.038368,
     "end_time": "2022-09-17T04:43:10.240880",
     "exception": false,
     "start_time": "2022-09-17T04:43:10.202512",
     "status": "completed"
    },
    "tags": []
   },
   "outputs": [],
   "source": [
    "#Dropping Age column\n",
    "train_data = train_data.drop(['Age'], axis = 1)\n",
    "test_data = test_data.drop(['Age'], axis = 1)\n",
    "\n",
    "#Dropping Fare column\n",
    "train_data = train_data.drop(['Fare'], axis = 1)\n",
    "test_data = test_data.drop(['Fare'], axis = 1)"
   ]
  },
  {
   "cell_type": "code",
   "execution_count": 30,
   "id": "07b240de",
   "metadata": {
    "execution": {
     "iopub.execute_input": "2022-09-17T04:43:10.291577Z",
     "iopub.status.busy": "2022-09-17T04:43:10.290835Z",
     "iopub.status.idle": "2022-09-17T04:43:10.305817Z",
     "shell.execute_reply": "2022-09-17T04:43:10.304598Z"
    },
    "papermill": {
     "duration": 0.04284,
     "end_time": "2022-09-17T04:43:10.308460",
     "exception": false,
     "start_time": "2022-09-17T04:43:10.265620",
     "status": "completed"
    },
    "tags": []
   },
   "outputs": [
    {
     "data": {
      "text/html": [
       "<div>\n",
       "<style scoped>\n",
       "    .dataframe tbody tr th:only-of-type {\n",
       "        vertical-align: middle;\n",
       "    }\n",
       "\n",
       "    .dataframe tbody tr th {\n",
       "        vertical-align: top;\n",
       "    }\n",
       "\n",
       "    .dataframe thead th {\n",
       "        text-align: right;\n",
       "    }\n",
       "</style>\n",
       "<table border=\"1\" class=\"dataframe\">\n",
       "  <thead>\n",
       "    <tr style=\"text-align: right;\">\n",
       "      <th></th>\n",
       "      <th>PassengerId</th>\n",
       "      <th>Survived</th>\n",
       "      <th>Pclass</th>\n",
       "      <th>Sex</th>\n",
       "      <th>SibSp</th>\n",
       "      <th>Parch</th>\n",
       "      <th>Embarked</th>\n",
       "      <th>AgeGroup</th>\n",
       "      <th>Cabin_num</th>\n",
       "      <th>Title</th>\n",
       "      <th>Fareband</th>\n",
       "    </tr>\n",
       "  </thead>\n",
       "  <tbody>\n",
       "    <tr>\n",
       "      <th>0</th>\n",
       "      <td>1</td>\n",
       "      <td>0</td>\n",
       "      <td>3</td>\n",
       "      <td>0</td>\n",
       "      <td>1</td>\n",
       "      <td>0</td>\n",
       "      <td>1</td>\n",
       "      <td>4.0</td>\n",
       "      <td>0</td>\n",
       "      <td>6.0</td>\n",
       "      <td>1</td>\n",
       "    </tr>\n",
       "    <tr>\n",
       "      <th>1</th>\n",
       "      <td>2</td>\n",
       "      <td>1</td>\n",
       "      <td>1</td>\n",
       "      <td>1</td>\n",
       "      <td>1</td>\n",
       "      <td>0</td>\n",
       "      <td>2</td>\n",
       "      <td>6.0</td>\n",
       "      <td>1</td>\n",
       "      <td>7.0</td>\n",
       "      <td>4</td>\n",
       "    </tr>\n",
       "    <tr>\n",
       "      <th>2</th>\n",
       "      <td>3</td>\n",
       "      <td>1</td>\n",
       "      <td>3</td>\n",
       "      <td>1</td>\n",
       "      <td>0</td>\n",
       "      <td>0</td>\n",
       "      <td>1</td>\n",
       "      <td>5.0</td>\n",
       "      <td>0</td>\n",
       "      <td>4.0</td>\n",
       "      <td>2</td>\n",
       "    </tr>\n",
       "    <tr>\n",
       "      <th>3</th>\n",
       "      <td>4</td>\n",
       "      <td>1</td>\n",
       "      <td>1</td>\n",
       "      <td>1</td>\n",
       "      <td>1</td>\n",
       "      <td>0</td>\n",
       "      <td>1</td>\n",
       "      <td>6.0</td>\n",
       "      <td>1</td>\n",
       "      <td>7.0</td>\n",
       "      <td>4</td>\n",
       "    </tr>\n",
       "    <tr>\n",
       "      <th>4</th>\n",
       "      <td>5</td>\n",
       "      <td>0</td>\n",
       "      <td>3</td>\n",
       "      <td>0</td>\n",
       "      <td>0</td>\n",
       "      <td>0</td>\n",
       "      <td>1</td>\n",
       "      <td>6.0</td>\n",
       "      <td>0</td>\n",
       "      <td>6.0</td>\n",
       "      <td>2</td>\n",
       "    </tr>\n",
       "  </tbody>\n",
       "</table>\n",
       "</div>"
      ],
      "text/plain": [
       "   PassengerId  Survived  Pclass  Sex  SibSp  Parch  Embarked  AgeGroup  \\\n",
       "0            1         0       3    0      1      0         1       4.0   \n",
       "1            2         1       1    1      1      0         2       6.0   \n",
       "2            3         1       3    1      0      0         1       5.0   \n",
       "3            4         1       1    1      1      0         1       6.0   \n",
       "4            5         0       3    0      0      0         1       6.0   \n",
       "\n",
       "   Cabin_num  Title Fareband  \n",
       "0          0    6.0        1  \n",
       "1          1    7.0        4  \n",
       "2          0    4.0        2  \n",
       "3          1    7.0        4  \n",
       "4          0    6.0        2  "
      ]
     },
     "execution_count": 30,
     "metadata": {},
     "output_type": "execute_result"
    }
   ],
   "source": [
    "train_data.head()"
   ]
  },
  {
   "cell_type": "code",
   "execution_count": 31,
   "id": "fb1723e7",
   "metadata": {
    "execution": {
     "iopub.execute_input": "2022-09-17T04:43:10.357804Z",
     "iopub.status.busy": "2022-09-17T04:43:10.357371Z",
     "iopub.status.idle": "2022-09-17T04:43:10.372899Z",
     "shell.execute_reply": "2022-09-17T04:43:10.371687Z"
    },
    "papermill": {
     "duration": 0.04326,
     "end_time": "2022-09-17T04:43:10.375511",
     "exception": false,
     "start_time": "2022-09-17T04:43:10.332251",
     "status": "completed"
    },
    "tags": []
   },
   "outputs": [
    {
     "data": {
      "text/html": [
       "<div>\n",
       "<style scoped>\n",
       "    .dataframe tbody tr th:only-of-type {\n",
       "        vertical-align: middle;\n",
       "    }\n",
       "\n",
       "    .dataframe tbody tr th {\n",
       "        vertical-align: top;\n",
       "    }\n",
       "\n",
       "    .dataframe thead th {\n",
       "        text-align: right;\n",
       "    }\n",
       "</style>\n",
       "<table border=\"1\" class=\"dataframe\">\n",
       "  <thead>\n",
       "    <tr style=\"text-align: right;\">\n",
       "      <th></th>\n",
       "      <th>PassengerId</th>\n",
       "      <th>Pclass</th>\n",
       "      <th>Sex</th>\n",
       "      <th>SibSp</th>\n",
       "      <th>Parch</th>\n",
       "      <th>Embarked</th>\n",
       "      <th>AgeGroup</th>\n",
       "      <th>Cabin_num</th>\n",
       "      <th>Title</th>\n",
       "      <th>Fareband</th>\n",
       "    </tr>\n",
       "  </thead>\n",
       "  <tbody>\n",
       "    <tr>\n",
       "      <th>0</th>\n",
       "      <td>892</td>\n",
       "      <td>3</td>\n",
       "      <td>0</td>\n",
       "      <td>0</td>\n",
       "      <td>0</td>\n",
       "      <td>3</td>\n",
       "      <td>6.0</td>\n",
       "      <td>0</td>\n",
       "      <td>6.0</td>\n",
       "      <td>1</td>\n",
       "    </tr>\n",
       "    <tr>\n",
       "      <th>1</th>\n",
       "      <td>893</td>\n",
       "      <td>3</td>\n",
       "      <td>1</td>\n",
       "      <td>1</td>\n",
       "      <td>0</td>\n",
       "      <td>1</td>\n",
       "      <td>6.0</td>\n",
       "      <td>0</td>\n",
       "      <td>7.0</td>\n",
       "      <td>1</td>\n",
       "    </tr>\n",
       "    <tr>\n",
       "      <th>2</th>\n",
       "      <td>894</td>\n",
       "      <td>2</td>\n",
       "      <td>0</td>\n",
       "      <td>0</td>\n",
       "      <td>0</td>\n",
       "      <td>3</td>\n",
       "      <td>7.0</td>\n",
       "      <td>0</td>\n",
       "      <td>6.0</td>\n",
       "      <td>2</td>\n",
       "    </tr>\n",
       "    <tr>\n",
       "      <th>3</th>\n",
       "      <td>895</td>\n",
       "      <td>3</td>\n",
       "      <td>0</td>\n",
       "      <td>0</td>\n",
       "      <td>0</td>\n",
       "      <td>1</td>\n",
       "      <td>5.0</td>\n",
       "      <td>0</td>\n",
       "      <td>6.0</td>\n",
       "      <td>2</td>\n",
       "    </tr>\n",
       "    <tr>\n",
       "      <th>4</th>\n",
       "      <td>896</td>\n",
       "      <td>3</td>\n",
       "      <td>1</td>\n",
       "      <td>1</td>\n",
       "      <td>1</td>\n",
       "      <td>1</td>\n",
       "      <td>4.0</td>\n",
       "      <td>0</td>\n",
       "      <td>7.0</td>\n",
       "      <td>2</td>\n",
       "    </tr>\n",
       "  </tbody>\n",
       "</table>\n",
       "</div>"
      ],
      "text/plain": [
       "   PassengerId  Pclass  Sex  SibSp  Parch  Embarked  AgeGroup  Cabin_num  \\\n",
       "0          892       3    0      0      0         3       6.0          0   \n",
       "1          893       3    1      1      0         1       6.0          0   \n",
       "2          894       2    0      0      0         3       7.0          0   \n",
       "3          895       3    0      0      0         1       5.0          0   \n",
       "4          896       3    1      1      1         1       4.0          0   \n",
       "\n",
       "   Title Fareband  \n",
       "0    6.0        1  \n",
       "1    7.0        1  \n",
       "2    6.0        2  \n",
       "3    6.0        2  \n",
       "4    7.0        2  "
      ]
     },
     "execution_count": 31,
     "metadata": {},
     "output_type": "execute_result"
    }
   ],
   "source": [
    "test_data.head()"
   ]
  },
  {
   "cell_type": "code",
   "execution_count": 32,
   "id": "3f7abc0a",
   "metadata": {
    "execution": {
     "iopub.execute_input": "2022-09-17T04:43:10.425775Z",
     "iopub.status.busy": "2022-09-17T04:43:10.425356Z",
     "iopub.status.idle": "2022-09-17T04:43:10.470517Z",
     "shell.execute_reply": "2022-09-17T04:43:10.469345Z"
    },
    "papermill": {
     "duration": 0.072945,
     "end_time": "2022-09-17T04:43:10.472869",
     "exception": false,
     "start_time": "2022-09-17T04:43:10.399924",
     "status": "completed"
    },
    "tags": []
   },
   "outputs": [
    {
     "data": {
      "text/html": [
       "<div>\n",
       "<style scoped>\n",
       "    .dataframe tbody tr th:only-of-type {\n",
       "        vertical-align: middle;\n",
       "    }\n",
       "\n",
       "    .dataframe tbody tr th {\n",
       "        vertical-align: top;\n",
       "    }\n",
       "\n",
       "    .dataframe thead th {\n",
       "        text-align: right;\n",
       "    }\n",
       "</style>\n",
       "<table border=\"1\" class=\"dataframe\">\n",
       "  <thead>\n",
       "    <tr style=\"text-align: right;\">\n",
       "      <th></th>\n",
       "      <th>PassengerId</th>\n",
       "      <th>Survived</th>\n",
       "      <th>Pclass</th>\n",
       "      <th>Sex</th>\n",
       "      <th>SibSp</th>\n",
       "      <th>Parch</th>\n",
       "      <th>Embarked</th>\n",
       "      <th>AgeGroup</th>\n",
       "      <th>Cabin_num</th>\n",
       "      <th>Title</th>\n",
       "      <th>Fareband</th>\n",
       "    </tr>\n",
       "  </thead>\n",
       "  <tbody>\n",
       "    <tr>\n",
       "      <th>count</th>\n",
       "      <td>891.000000</td>\n",
       "      <td>891.000000</td>\n",
       "      <td>891.000000</td>\n",
       "      <td>891.000000</td>\n",
       "      <td>891.000000</td>\n",
       "      <td>891.000000</td>\n",
       "      <td>891.000000</td>\n",
       "      <td>891.000000</td>\n",
       "      <td>891.000000</td>\n",
       "      <td>891.000000</td>\n",
       "      <td>891.0</td>\n",
       "    </tr>\n",
       "    <tr>\n",
       "      <th>unique</th>\n",
       "      <td>NaN</td>\n",
       "      <td>NaN</td>\n",
       "      <td>NaN</td>\n",
       "      <td>NaN</td>\n",
       "      <td>NaN</td>\n",
       "      <td>NaN</td>\n",
       "      <td>NaN</td>\n",
       "      <td>NaN</td>\n",
       "      <td>NaN</td>\n",
       "      <td>NaN</td>\n",
       "      <td>4.0</td>\n",
       "    </tr>\n",
       "    <tr>\n",
       "      <th>top</th>\n",
       "      <td>NaN</td>\n",
       "      <td>NaN</td>\n",
       "      <td>NaN</td>\n",
       "      <td>NaN</td>\n",
       "      <td>NaN</td>\n",
       "      <td>NaN</td>\n",
       "      <td>NaN</td>\n",
       "      <td>NaN</td>\n",
       "      <td>NaN</td>\n",
       "      <td>NaN</td>\n",
       "      <td>2.0</td>\n",
       "    </tr>\n",
       "    <tr>\n",
       "      <th>freq</th>\n",
       "      <td>NaN</td>\n",
       "      <td>NaN</td>\n",
       "      <td>NaN</td>\n",
       "      <td>NaN</td>\n",
       "      <td>NaN</td>\n",
       "      <td>NaN</td>\n",
       "      <td>NaN</td>\n",
       "      <td>NaN</td>\n",
       "      <td>NaN</td>\n",
       "      <td>NaN</td>\n",
       "      <td>224.0</td>\n",
       "    </tr>\n",
       "    <tr>\n",
       "      <th>mean</th>\n",
       "      <td>446.000000</td>\n",
       "      <td>0.383838</td>\n",
       "      <td>2.308642</td>\n",
       "      <td>0.352413</td>\n",
       "      <td>0.523008</td>\n",
       "      <td>0.381594</td>\n",
       "      <td>1.361392</td>\n",
       "      <td>4.611672</td>\n",
       "      <td>0.228956</td>\n",
       "      <td>5.491582</td>\n",
       "      <td>NaN</td>\n",
       "    </tr>\n",
       "    <tr>\n",
       "      <th>std</th>\n",
       "      <td>257.353842</td>\n",
       "      <td>0.486592</td>\n",
       "      <td>0.836071</td>\n",
       "      <td>0.477990</td>\n",
       "      <td>1.102743</td>\n",
       "      <td>0.806057</td>\n",
       "      <td>0.635673</td>\n",
       "      <td>1.397284</td>\n",
       "      <td>0.420397</td>\n",
       "      <td>1.330999</td>\n",
       "      <td>NaN</td>\n",
       "    </tr>\n",
       "    <tr>\n",
       "      <th>min</th>\n",
       "      <td>1.000000</td>\n",
       "      <td>0.000000</td>\n",
       "      <td>1.000000</td>\n",
       "      <td>0.000000</td>\n",
       "      <td>0.000000</td>\n",
       "      <td>0.000000</td>\n",
       "      <td>1.000000</td>\n",
       "      <td>1.000000</td>\n",
       "      <td>0.000000</td>\n",
       "      <td>0.000000</td>\n",
       "      <td>NaN</td>\n",
       "    </tr>\n",
       "    <tr>\n",
       "      <th>25%</th>\n",
       "      <td>223.500000</td>\n",
       "      <td>0.000000</td>\n",
       "      <td>2.000000</td>\n",
       "      <td>0.000000</td>\n",
       "      <td>0.000000</td>\n",
       "      <td>0.000000</td>\n",
       "      <td>1.000000</td>\n",
       "      <td>4.000000</td>\n",
       "      <td>0.000000</td>\n",
       "      <td>4.000000</td>\n",
       "      <td>NaN</td>\n",
       "    </tr>\n",
       "    <tr>\n",
       "      <th>50%</th>\n",
       "      <td>446.000000</td>\n",
       "      <td>0.000000</td>\n",
       "      <td>3.000000</td>\n",
       "      <td>0.000000</td>\n",
       "      <td>0.000000</td>\n",
       "      <td>0.000000</td>\n",
       "      <td>1.000000</td>\n",
       "      <td>5.000000</td>\n",
       "      <td>0.000000</td>\n",
       "      <td>6.000000</td>\n",
       "      <td>NaN</td>\n",
       "    </tr>\n",
       "    <tr>\n",
       "      <th>75%</th>\n",
       "      <td>668.500000</td>\n",
       "      <td>1.000000</td>\n",
       "      <td>3.000000</td>\n",
       "      <td>1.000000</td>\n",
       "      <td>1.000000</td>\n",
       "      <td>0.000000</td>\n",
       "      <td>2.000000</td>\n",
       "      <td>6.000000</td>\n",
       "      <td>0.000000</td>\n",
       "      <td>6.000000</td>\n",
       "      <td>NaN</td>\n",
       "    </tr>\n",
       "    <tr>\n",
       "      <th>max</th>\n",
       "      <td>891.000000</td>\n",
       "      <td>1.000000</td>\n",
       "      <td>3.000000</td>\n",
       "      <td>1.000000</td>\n",
       "      <td>8.000000</td>\n",
       "      <td>6.000000</td>\n",
       "      <td>3.000000</td>\n",
       "      <td>7.000000</td>\n",
       "      <td>1.000000</td>\n",
       "      <td>8.000000</td>\n",
       "      <td>NaN</td>\n",
       "    </tr>\n",
       "  </tbody>\n",
       "</table>\n",
       "</div>"
      ],
      "text/plain": [
       "        PassengerId    Survived      Pclass         Sex       SibSp  \\\n",
       "count    891.000000  891.000000  891.000000  891.000000  891.000000   \n",
       "unique          NaN         NaN         NaN         NaN         NaN   \n",
       "top             NaN         NaN         NaN         NaN         NaN   \n",
       "freq            NaN         NaN         NaN         NaN         NaN   \n",
       "mean     446.000000    0.383838    2.308642    0.352413    0.523008   \n",
       "std      257.353842    0.486592    0.836071    0.477990    1.102743   \n",
       "min        1.000000    0.000000    1.000000    0.000000    0.000000   \n",
       "25%      223.500000    0.000000    2.000000    0.000000    0.000000   \n",
       "50%      446.000000    0.000000    3.000000    0.000000    0.000000   \n",
       "75%      668.500000    1.000000    3.000000    1.000000    1.000000   \n",
       "max      891.000000    1.000000    3.000000    1.000000    8.000000   \n",
       "\n",
       "             Parch    Embarked    AgeGroup   Cabin_num       Title  Fareband  \n",
       "count   891.000000  891.000000  891.000000  891.000000  891.000000     891.0  \n",
       "unique         NaN         NaN         NaN         NaN         NaN       4.0  \n",
       "top            NaN         NaN         NaN         NaN         NaN       2.0  \n",
       "freq           NaN         NaN         NaN         NaN         NaN     224.0  \n",
       "mean      0.381594    1.361392    4.611672    0.228956    5.491582       NaN  \n",
       "std       0.806057    0.635673    1.397284    0.420397    1.330999       NaN  \n",
       "min       0.000000    1.000000    1.000000    0.000000    0.000000       NaN  \n",
       "25%       0.000000    1.000000    4.000000    0.000000    4.000000       NaN  \n",
       "50%       0.000000    1.000000    5.000000    0.000000    6.000000       NaN  \n",
       "75%       0.000000    2.000000    6.000000    0.000000    6.000000       NaN  \n",
       "max       6.000000    3.000000    7.000000    1.000000    8.000000       NaN  "
      ]
     },
     "execution_count": 32,
     "metadata": {},
     "output_type": "execute_result"
    }
   ],
   "source": [
    "train_data.describe(include = 'all')"
   ]
  },
  {
   "cell_type": "code",
   "execution_count": 33,
   "id": "328e2e16",
   "metadata": {
    "execution": {
     "iopub.execute_input": "2022-09-17T04:43:10.523844Z",
     "iopub.status.busy": "2022-09-17T04:43:10.522644Z",
     "iopub.status.idle": "2022-09-17T04:43:10.563137Z",
     "shell.execute_reply": "2022-09-17T04:43:10.561787Z"
    },
    "papermill": {
     "duration": 0.068626,
     "end_time": "2022-09-17T04:43:10.565674",
     "exception": false,
     "start_time": "2022-09-17T04:43:10.497048",
     "status": "completed"
    },
    "tags": []
   },
   "outputs": [
    {
     "data": {
      "text/html": [
       "<div>\n",
       "<style scoped>\n",
       "    .dataframe tbody tr th:only-of-type {\n",
       "        vertical-align: middle;\n",
       "    }\n",
       "\n",
       "    .dataframe tbody tr th {\n",
       "        vertical-align: top;\n",
       "    }\n",
       "\n",
       "    .dataframe thead th {\n",
       "        text-align: right;\n",
       "    }\n",
       "</style>\n",
       "<table border=\"1\" class=\"dataframe\">\n",
       "  <thead>\n",
       "    <tr style=\"text-align: right;\">\n",
       "      <th></th>\n",
       "      <th>PassengerId</th>\n",
       "      <th>Pclass</th>\n",
       "      <th>Sex</th>\n",
       "      <th>SibSp</th>\n",
       "      <th>Parch</th>\n",
       "      <th>Embarked</th>\n",
       "      <th>AgeGroup</th>\n",
       "      <th>Cabin_num</th>\n",
       "      <th>Title</th>\n",
       "      <th>Fareband</th>\n",
       "    </tr>\n",
       "  </thead>\n",
       "  <tbody>\n",
       "    <tr>\n",
       "      <th>count</th>\n",
       "      <td>418.000000</td>\n",
       "      <td>418.000000</td>\n",
       "      <td>418.000000</td>\n",
       "      <td>418.000000</td>\n",
       "      <td>418.000000</td>\n",
       "      <td>418.000000</td>\n",
       "      <td>332.000000</td>\n",
       "      <td>418.000000</td>\n",
       "      <td>418.000000</td>\n",
       "      <td>418.0</td>\n",
       "    </tr>\n",
       "    <tr>\n",
       "      <th>unique</th>\n",
       "      <td>NaN</td>\n",
       "      <td>NaN</td>\n",
       "      <td>NaN</td>\n",
       "      <td>NaN</td>\n",
       "      <td>NaN</td>\n",
       "      <td>NaN</td>\n",
       "      <td>NaN</td>\n",
       "      <td>NaN</td>\n",
       "      <td>NaN</td>\n",
       "      <td>4.0</td>\n",
       "    </tr>\n",
       "    <tr>\n",
       "      <th>top</th>\n",
       "      <td>NaN</td>\n",
       "      <td>NaN</td>\n",
       "      <td>NaN</td>\n",
       "      <td>NaN</td>\n",
       "      <td>NaN</td>\n",
       "      <td>NaN</td>\n",
       "      <td>NaN</td>\n",
       "      <td>NaN</td>\n",
       "      <td>NaN</td>\n",
       "      <td>1.0</td>\n",
       "    </tr>\n",
       "    <tr>\n",
       "      <th>freq</th>\n",
       "      <td>NaN</td>\n",
       "      <td>NaN</td>\n",
       "      <td>NaN</td>\n",
       "      <td>NaN</td>\n",
       "      <td>NaN</td>\n",
       "      <td>NaN</td>\n",
       "      <td>NaN</td>\n",
       "      <td>NaN</td>\n",
       "      <td>NaN</td>\n",
       "      <td>114.0</td>\n",
       "    </tr>\n",
       "    <tr>\n",
       "      <th>mean</th>\n",
       "      <td>1100.500000</td>\n",
       "      <td>2.265550</td>\n",
       "      <td>0.363636</td>\n",
       "      <td>0.447368</td>\n",
       "      <td>0.392344</td>\n",
       "      <td>1.464115</td>\n",
       "      <td>4.743976</td>\n",
       "      <td>0.217703</td>\n",
       "      <td>5.590909</td>\n",
       "      <td>NaN</td>\n",
       "    </tr>\n",
       "    <tr>\n",
       "      <th>std</th>\n",
       "      <td>120.810458</td>\n",
       "      <td>0.841838</td>\n",
       "      <td>0.481622</td>\n",
       "      <td>0.896760</td>\n",
       "      <td>0.981429</td>\n",
       "      <td>0.685516</td>\n",
       "      <td>1.411260</td>\n",
       "      <td>0.413179</td>\n",
       "      <td>1.268551</td>\n",
       "      <td>NaN</td>\n",
       "    </tr>\n",
       "    <tr>\n",
       "      <th>min</th>\n",
       "      <td>892.000000</td>\n",
       "      <td>1.000000</td>\n",
       "      <td>0.000000</td>\n",
       "      <td>0.000000</td>\n",
       "      <td>0.000000</td>\n",
       "      <td>1.000000</td>\n",
       "      <td>1.000000</td>\n",
       "      <td>0.000000</td>\n",
       "      <td>0.000000</td>\n",
       "      <td>NaN</td>\n",
       "    </tr>\n",
       "    <tr>\n",
       "      <th>25%</th>\n",
       "      <td>996.250000</td>\n",
       "      <td>1.000000</td>\n",
       "      <td>0.000000</td>\n",
       "      <td>0.000000</td>\n",
       "      <td>0.000000</td>\n",
       "      <td>1.000000</td>\n",
       "      <td>4.000000</td>\n",
       "      <td>0.000000</td>\n",
       "      <td>6.000000</td>\n",
       "      <td>NaN</td>\n",
       "    </tr>\n",
       "    <tr>\n",
       "      <th>50%</th>\n",
       "      <td>1100.500000</td>\n",
       "      <td>3.000000</td>\n",
       "      <td>0.000000</td>\n",
       "      <td>0.000000</td>\n",
       "      <td>0.000000</td>\n",
       "      <td>1.000000</td>\n",
       "      <td>5.000000</td>\n",
       "      <td>0.000000</td>\n",
       "      <td>6.000000</td>\n",
       "      <td>NaN</td>\n",
       "    </tr>\n",
       "    <tr>\n",
       "      <th>75%</th>\n",
       "      <td>1204.750000</td>\n",
       "      <td>3.000000</td>\n",
       "      <td>1.000000</td>\n",
       "      <td>1.000000</td>\n",
       "      <td>0.000000</td>\n",
       "      <td>2.000000</td>\n",
       "      <td>6.000000</td>\n",
       "      <td>0.000000</td>\n",
       "      <td>6.000000</td>\n",
       "      <td>NaN</td>\n",
       "    </tr>\n",
       "    <tr>\n",
       "      <th>max</th>\n",
       "      <td>1309.000000</td>\n",
       "      <td>3.000000</td>\n",
       "      <td>1.000000</td>\n",
       "      <td>8.000000</td>\n",
       "      <td>9.000000</td>\n",
       "      <td>3.000000</td>\n",
       "      <td>7.000000</td>\n",
       "      <td>1.000000</td>\n",
       "      <td>8.000000</td>\n",
       "      <td>NaN</td>\n",
       "    </tr>\n",
       "  </tbody>\n",
       "</table>\n",
       "</div>"
      ],
      "text/plain": [
       "        PassengerId      Pclass         Sex       SibSp       Parch  \\\n",
       "count    418.000000  418.000000  418.000000  418.000000  418.000000   \n",
       "unique          NaN         NaN         NaN         NaN         NaN   \n",
       "top             NaN         NaN         NaN         NaN         NaN   \n",
       "freq            NaN         NaN         NaN         NaN         NaN   \n",
       "mean    1100.500000    2.265550    0.363636    0.447368    0.392344   \n",
       "std      120.810458    0.841838    0.481622    0.896760    0.981429   \n",
       "min      892.000000    1.000000    0.000000    0.000000    0.000000   \n",
       "25%      996.250000    1.000000    0.000000    0.000000    0.000000   \n",
       "50%     1100.500000    3.000000    0.000000    0.000000    0.000000   \n",
       "75%     1204.750000    3.000000    1.000000    1.000000    0.000000   \n",
       "max     1309.000000    3.000000    1.000000    8.000000    9.000000   \n",
       "\n",
       "          Embarked    AgeGroup   Cabin_num       Title  Fareband  \n",
       "count   418.000000  332.000000  418.000000  418.000000     418.0  \n",
       "unique         NaN         NaN         NaN         NaN       4.0  \n",
       "top            NaN         NaN         NaN         NaN       1.0  \n",
       "freq           NaN         NaN         NaN         NaN     114.0  \n",
       "mean      1.464115    4.743976    0.217703    5.590909       NaN  \n",
       "std       0.685516    1.411260    0.413179    1.268551       NaN  \n",
       "min       1.000000    1.000000    0.000000    0.000000       NaN  \n",
       "25%       1.000000    4.000000    0.000000    6.000000       NaN  \n",
       "50%       1.000000    5.000000    0.000000    6.000000       NaN  \n",
       "75%       2.000000    6.000000    0.000000    6.000000       NaN  \n",
       "max       3.000000    7.000000    1.000000    8.000000       NaN  "
      ]
     },
     "execution_count": 33,
     "metadata": {},
     "output_type": "execute_result"
    }
   ],
   "source": [
    "test_data.describe(include = 'all')"
   ]
  },
  {
   "cell_type": "markdown",
   "id": "11077943",
   "metadata": {
    "papermill": {
     "duration": 0.024552,
     "end_time": "2022-09-17T04:43:10.616664",
     "exception": false,
     "start_time": "2022-09-17T04:43:10.592112",
     "status": "completed"
    },
    "tags": []
   },
   "source": [
    "Now we have cleaned our data and made sure that no value is missing in the data. "
   ]
  },
  {
   "cell_type": "markdown",
   "id": "79d3621f",
   "metadata": {
    "papermill": {
     "duration": 0.024541,
     "end_time": "2022-09-17T04:43:10.665893",
     "exception": false,
     "start_time": "2022-09-17T04:43:10.641352",
     "status": "completed"
    },
    "tags": []
   },
   "source": [
    "# 6.) Machine Learning Models "
   ]
  },
  {
   "cell_type": "markdown",
   "id": "8e500e10",
   "metadata": {
    "papermill": {
     "duration": 0.024349,
     "end_time": "2022-09-17T04:43:10.715020",
     "exception": false,
     "start_time": "2022-09-17T04:43:10.690671",
     "status": "completed"
    },
    "tags": []
   },
   "source": [
    "There are a number of machine learning models available.We choose the model according to our need.\n",
    "Here I will test different models just for the sake of learning.\n",
    "\n",
    "we will use: \n",
    "* Gaussian Naive Bayes\n",
    "* Logistic Regression\n",
    "* Support Vector Machines\n",
    "* Perceptron\n",
    "* Decision Tree Classifier\n",
    "* Random Forest Classifier\n",
    "* KNN or k-Nearest Neighbors\n",
    "* Stochastic Gradient Descent\n",
    "* Gradient Boosting Classifier"
   ]
  },
  {
   "cell_type": "markdown",
   "id": "be5ac337",
   "metadata": {
    "papermill": {
     "duration": 0.024914,
     "end_time": "2022-09-17T04:43:10.765056",
     "exception": false,
     "start_time": "2022-09-17T04:43:10.740142",
     "status": "completed"
    },
    "tags": []
   },
   "source": [
    "# Splitting the training data\n",
    "\n",
    "First we will split our training data. By splitting the data we mean that we will take a certain amount of training data to train the model."
   ]
  },
  {
   "cell_type": "code",
   "execution_count": 34,
   "id": "0ff40914",
   "metadata": {
    "execution": {
     "iopub.execute_input": "2022-09-17T04:43:10.817668Z",
     "iopub.status.busy": "2022-09-17T04:43:10.816303Z",
     "iopub.status.idle": "2022-09-17T04:43:11.032534Z",
     "shell.execute_reply": "2022-09-17T04:43:11.031334Z"
    },
    "papermill": {
     "duration": 0.245626,
     "end_time": "2022-09-17T04:43:11.035356",
     "exception": false,
     "start_time": "2022-09-17T04:43:10.789730",
     "status": "completed"
    },
    "tags": []
   },
   "outputs": [],
   "source": [
    "from sklearn.model_selection import train_test_split\n",
    "predictors = train_data.drop(['Survived','PassengerId'], axis = 1)\n",
    "target = train_data['Survived']\n",
    "x_train ,x_val, y_train, y_val = train_test_split(predictors , target , test_size = 0.22 , random_state = 0)"
   ]
  },
  {
   "cell_type": "code",
   "execution_count": 35,
   "id": "1ab7ac35",
   "metadata": {
    "execution": {
     "iopub.execute_input": "2022-09-17T04:43:11.088162Z",
     "iopub.status.busy": "2022-09-17T04:43:11.087395Z",
     "iopub.status.idle": "2022-09-17T04:43:11.103196Z",
     "shell.execute_reply": "2022-09-17T04:43:11.101774Z"
    },
    "papermill": {
     "duration": 0.045437,
     "end_time": "2022-09-17T04:43:11.105612",
     "exception": false,
     "start_time": "2022-09-17T04:43:11.060175",
     "status": "completed"
    },
    "tags": []
   },
   "outputs": [
    {
     "data": {
      "text/html": [
       "<div>\n",
       "<style scoped>\n",
       "    .dataframe tbody tr th:only-of-type {\n",
       "        vertical-align: middle;\n",
       "    }\n",
       "\n",
       "    .dataframe tbody tr th {\n",
       "        vertical-align: top;\n",
       "    }\n",
       "\n",
       "    .dataframe thead th {\n",
       "        text-align: right;\n",
       "    }\n",
       "</style>\n",
       "<table border=\"1\" class=\"dataframe\">\n",
       "  <thead>\n",
       "    <tr style=\"text-align: right;\">\n",
       "      <th></th>\n",
       "      <th>Pclass</th>\n",
       "      <th>Sex</th>\n",
       "      <th>SibSp</th>\n",
       "      <th>Parch</th>\n",
       "      <th>Embarked</th>\n",
       "      <th>AgeGroup</th>\n",
       "      <th>Cabin_num</th>\n",
       "      <th>Title</th>\n",
       "      <th>Fareband</th>\n",
       "    </tr>\n",
       "  </thead>\n",
       "  <tbody>\n",
       "    <tr>\n",
       "      <th>0</th>\n",
       "      <td>3</td>\n",
       "      <td>0</td>\n",
       "      <td>1</td>\n",
       "      <td>0</td>\n",
       "      <td>1</td>\n",
       "      <td>4.0</td>\n",
       "      <td>0</td>\n",
       "      <td>6.0</td>\n",
       "      <td>1</td>\n",
       "    </tr>\n",
       "    <tr>\n",
       "      <th>1</th>\n",
       "      <td>1</td>\n",
       "      <td>1</td>\n",
       "      <td>1</td>\n",
       "      <td>0</td>\n",
       "      <td>2</td>\n",
       "      <td>6.0</td>\n",
       "      <td>1</td>\n",
       "      <td>7.0</td>\n",
       "      <td>4</td>\n",
       "    </tr>\n",
       "    <tr>\n",
       "      <th>2</th>\n",
       "      <td>3</td>\n",
       "      <td>1</td>\n",
       "      <td>0</td>\n",
       "      <td>0</td>\n",
       "      <td>1</td>\n",
       "      <td>5.0</td>\n",
       "      <td>0</td>\n",
       "      <td>4.0</td>\n",
       "      <td>2</td>\n",
       "    </tr>\n",
       "    <tr>\n",
       "      <th>3</th>\n",
       "      <td>1</td>\n",
       "      <td>1</td>\n",
       "      <td>1</td>\n",
       "      <td>0</td>\n",
       "      <td>1</td>\n",
       "      <td>6.0</td>\n",
       "      <td>1</td>\n",
       "      <td>7.0</td>\n",
       "      <td>4</td>\n",
       "    </tr>\n",
       "    <tr>\n",
       "      <th>4</th>\n",
       "      <td>3</td>\n",
       "      <td>0</td>\n",
       "      <td>0</td>\n",
       "      <td>0</td>\n",
       "      <td>1</td>\n",
       "      <td>6.0</td>\n",
       "      <td>0</td>\n",
       "      <td>6.0</td>\n",
       "      <td>2</td>\n",
       "    </tr>\n",
       "  </tbody>\n",
       "</table>\n",
       "</div>"
      ],
      "text/plain": [
       "   Pclass  Sex  SibSp  Parch  Embarked  AgeGroup  Cabin_num  Title Fareband\n",
       "0       3    0      1      0         1       4.0          0    6.0        1\n",
       "1       1    1      1      0         2       6.0          1    7.0        4\n",
       "2       3    1      0      0         1       5.0          0    4.0        2\n",
       "3       1    1      1      0         1       6.0          1    7.0        4\n",
       "4       3    0      0      0         1       6.0          0    6.0        2"
      ]
     },
     "execution_count": 35,
     "metadata": {},
     "output_type": "execute_result"
    }
   ],
   "source": [
    "predictors.head()"
   ]
  },
  {
   "cell_type": "code",
   "execution_count": 36,
   "id": "e9ba801b",
   "metadata": {
    "execution": {
     "iopub.execute_input": "2022-09-17T04:43:11.159269Z",
     "iopub.status.busy": "2022-09-17T04:43:11.158083Z",
     "iopub.status.idle": "2022-09-17T04:43:11.199133Z",
     "shell.execute_reply": "2022-09-17T04:43:11.197944Z"
    },
    "papermill": {
     "duration": 0.070426,
     "end_time": "2022-09-17T04:43:11.201649",
     "exception": false,
     "start_time": "2022-09-17T04:43:11.131223",
     "status": "completed"
    },
    "tags": []
   },
   "outputs": [
    {
     "data": {
      "text/html": [
       "<div>\n",
       "<style scoped>\n",
       "    .dataframe tbody tr th:only-of-type {\n",
       "        vertical-align: middle;\n",
       "    }\n",
       "\n",
       "    .dataframe tbody tr th {\n",
       "        vertical-align: top;\n",
       "    }\n",
       "\n",
       "    .dataframe thead th {\n",
       "        text-align: right;\n",
       "    }\n",
       "</style>\n",
       "<table border=\"1\" class=\"dataframe\">\n",
       "  <thead>\n",
       "    <tr style=\"text-align: right;\">\n",
       "      <th></th>\n",
       "      <th>Pclass</th>\n",
       "      <th>Sex</th>\n",
       "      <th>SibSp</th>\n",
       "      <th>Parch</th>\n",
       "      <th>Embarked</th>\n",
       "      <th>AgeGroup</th>\n",
       "      <th>Cabin_num</th>\n",
       "      <th>Title</th>\n",
       "      <th>Fareband</th>\n",
       "    </tr>\n",
       "  </thead>\n",
       "  <tbody>\n",
       "    <tr>\n",
       "      <th>count</th>\n",
       "      <td>694.000000</td>\n",
       "      <td>694.000000</td>\n",
       "      <td>694.000000</td>\n",
       "      <td>694.000000</td>\n",
       "      <td>694.000000</td>\n",
       "      <td>694.000000</td>\n",
       "      <td>694.000000</td>\n",
       "      <td>694.000000</td>\n",
       "      <td>694.0</td>\n",
       "    </tr>\n",
       "    <tr>\n",
       "      <th>unique</th>\n",
       "      <td>NaN</td>\n",
       "      <td>NaN</td>\n",
       "      <td>NaN</td>\n",
       "      <td>NaN</td>\n",
       "      <td>NaN</td>\n",
       "      <td>NaN</td>\n",
       "      <td>NaN</td>\n",
       "      <td>NaN</td>\n",
       "      <td>4.0</td>\n",
       "    </tr>\n",
       "    <tr>\n",
       "      <th>top</th>\n",
       "      <td>NaN</td>\n",
       "      <td>NaN</td>\n",
       "      <td>NaN</td>\n",
       "      <td>NaN</td>\n",
       "      <td>NaN</td>\n",
       "      <td>NaN</td>\n",
       "      <td>NaN</td>\n",
       "      <td>NaN</td>\n",
       "      <td>4.0</td>\n",
       "    </tr>\n",
       "    <tr>\n",
       "      <th>freq</th>\n",
       "      <td>NaN</td>\n",
       "      <td>NaN</td>\n",
       "      <td>NaN</td>\n",
       "      <td>NaN</td>\n",
       "      <td>NaN</td>\n",
       "      <td>NaN</td>\n",
       "      <td>NaN</td>\n",
       "      <td>NaN</td>\n",
       "      <td>176.0</td>\n",
       "    </tr>\n",
       "    <tr>\n",
       "      <th>mean</th>\n",
       "      <td>2.314121</td>\n",
       "      <td>0.347262</td>\n",
       "      <td>0.537464</td>\n",
       "      <td>0.394813</td>\n",
       "      <td>1.354467</td>\n",
       "      <td>4.621037</td>\n",
       "      <td>0.230548</td>\n",
       "      <td>5.485591</td>\n",
       "      <td>NaN</td>\n",
       "    </tr>\n",
       "    <tr>\n",
       "      <th>std</th>\n",
       "      <td>0.835298</td>\n",
       "      <td>0.476443</td>\n",
       "      <td>1.152528</td>\n",
       "      <td>0.826877</td>\n",
       "      <td>0.636550</td>\n",
       "      <td>1.416932</td>\n",
       "      <td>0.421487</td>\n",
       "      <td>1.319930</td>\n",
       "      <td>NaN</td>\n",
       "    </tr>\n",
       "    <tr>\n",
       "      <th>min</th>\n",
       "      <td>1.000000</td>\n",
       "      <td>0.000000</td>\n",
       "      <td>0.000000</td>\n",
       "      <td>0.000000</td>\n",
       "      <td>1.000000</td>\n",
       "      <td>1.000000</td>\n",
       "      <td>0.000000</td>\n",
       "      <td>0.000000</td>\n",
       "      <td>NaN</td>\n",
       "    </tr>\n",
       "    <tr>\n",
       "      <th>25%</th>\n",
       "      <td>2.000000</td>\n",
       "      <td>0.000000</td>\n",
       "      <td>0.000000</td>\n",
       "      <td>0.000000</td>\n",
       "      <td>1.000000</td>\n",
       "      <td>4.000000</td>\n",
       "      <td>0.000000</td>\n",
       "      <td>4.000000</td>\n",
       "      <td>NaN</td>\n",
       "    </tr>\n",
       "    <tr>\n",
       "      <th>50%</th>\n",
       "      <td>3.000000</td>\n",
       "      <td>0.000000</td>\n",
       "      <td>0.000000</td>\n",
       "      <td>0.000000</td>\n",
       "      <td>1.000000</td>\n",
       "      <td>5.000000</td>\n",
       "      <td>0.000000</td>\n",
       "      <td>6.000000</td>\n",
       "      <td>NaN</td>\n",
       "    </tr>\n",
       "    <tr>\n",
       "      <th>75%</th>\n",
       "      <td>3.000000</td>\n",
       "      <td>1.000000</td>\n",
       "      <td>1.000000</td>\n",
       "      <td>0.000000</td>\n",
       "      <td>2.000000</td>\n",
       "      <td>6.000000</td>\n",
       "      <td>0.000000</td>\n",
       "      <td>6.000000</td>\n",
       "      <td>NaN</td>\n",
       "    </tr>\n",
       "    <tr>\n",
       "      <th>max</th>\n",
       "      <td>3.000000</td>\n",
       "      <td>1.000000</td>\n",
       "      <td>8.000000</td>\n",
       "      <td>6.000000</td>\n",
       "      <td>3.000000</td>\n",
       "      <td>7.000000</td>\n",
       "      <td>1.000000</td>\n",
       "      <td>8.000000</td>\n",
       "      <td>NaN</td>\n",
       "    </tr>\n",
       "  </tbody>\n",
       "</table>\n",
       "</div>"
      ],
      "text/plain": [
       "            Pclass         Sex       SibSp       Parch    Embarked  \\\n",
       "count   694.000000  694.000000  694.000000  694.000000  694.000000   \n",
       "unique         NaN         NaN         NaN         NaN         NaN   \n",
       "top            NaN         NaN         NaN         NaN         NaN   \n",
       "freq           NaN         NaN         NaN         NaN         NaN   \n",
       "mean      2.314121    0.347262    0.537464    0.394813    1.354467   \n",
       "std       0.835298    0.476443    1.152528    0.826877    0.636550   \n",
       "min       1.000000    0.000000    0.000000    0.000000    1.000000   \n",
       "25%       2.000000    0.000000    0.000000    0.000000    1.000000   \n",
       "50%       3.000000    0.000000    0.000000    0.000000    1.000000   \n",
       "75%       3.000000    1.000000    1.000000    0.000000    2.000000   \n",
       "max       3.000000    1.000000    8.000000    6.000000    3.000000   \n",
       "\n",
       "          AgeGroup   Cabin_num       Title  Fareband  \n",
       "count   694.000000  694.000000  694.000000     694.0  \n",
       "unique         NaN         NaN         NaN       4.0  \n",
       "top            NaN         NaN         NaN       4.0  \n",
       "freq           NaN         NaN         NaN     176.0  \n",
       "mean      4.621037    0.230548    5.485591       NaN  \n",
       "std       1.416932    0.421487    1.319930       NaN  \n",
       "min       1.000000    0.000000    0.000000       NaN  \n",
       "25%       4.000000    0.000000    4.000000       NaN  \n",
       "50%       5.000000    0.000000    6.000000       NaN  \n",
       "75%       6.000000    0.000000    6.000000       NaN  \n",
       "max       7.000000    1.000000    8.000000       NaN  "
      ]
     },
     "execution_count": 36,
     "metadata": {},
     "output_type": "execute_result"
    }
   ],
   "source": [
    "x_train.describe(include ='all')"
   ]
  },
  {
   "cell_type": "markdown",
   "id": "ed60a395",
   "metadata": {
    "papermill": {
     "duration": 0.0253,
     "end_time": "2022-09-17T04:43:11.253939",
     "exception": false,
     "start_time": "2022-09-17T04:43:11.228639",
     "status": "completed"
    },
    "tags": []
   },
   "source": [
    "Here we have taken 22% of our training data to train our model.We have set our predictors to nine columns and have set our target \"Survived\" column."
   ]
  },
  {
   "cell_type": "markdown",
   "id": "0b6fce9d",
   "metadata": {
    "papermill": {
     "duration": 0.025719,
     "end_time": "2022-09-17T04:43:11.305461",
     "exception": false,
     "start_time": "2022-09-17T04:43:11.279742",
     "status": "completed"
    },
    "tags": []
   },
   "source": [
    "# 7.)Testing ML Models"
   ]
  },
  {
   "cell_type": "markdown",
   "id": "7cca811f",
   "metadata": {
    "papermill": {
     "duration": 0.025474,
     "end_time": "2022-09-17T04:43:11.356758",
     "exception": false,
     "start_time": "2022-09-17T04:43:11.331284",
     "status": "completed"
    },
    "tags": []
   },
   "source": [
    "# Gaussian Naive Bayes"
   ]
  },
  {
   "cell_type": "code",
   "execution_count": 37,
   "id": "d44c28a1",
   "metadata": {
    "execution": {
     "iopub.execute_input": "2022-09-17T04:43:11.410542Z",
     "iopub.status.busy": "2022-09-17T04:43:11.409519Z",
     "iopub.status.idle": "2022-09-17T04:43:11.426620Z",
     "shell.execute_reply": "2022-09-17T04:43:11.425413Z"
    },
    "papermill": {
     "duration": 0.047072,
     "end_time": "2022-09-17T04:43:11.429860",
     "exception": false,
     "start_time": "2022-09-17T04:43:11.382788",
     "status": "completed"
    },
    "tags": []
   },
   "outputs": [
    {
     "name": "stdout",
     "output_type": "stream",
     "text": [
      "80.2\n"
     ]
    }
   ],
   "source": [
    "\n",
    "from sklearn.naive_bayes import GaussianNB\n",
    "from sklearn.metrics import accuracy_score\n",
    "gaussian = GaussianNB()\n",
    "gaussian.fit(x_train,y_train)\n",
    "y_pred = gaussian.predict(x_val)\n",
    "acc_gaussian = round(accuracy_score(y_pred,y_val)*100,2)\n",
    "print(acc_gaussian)"
   ]
  },
  {
   "cell_type": "markdown",
   "id": "8161fa63",
   "metadata": {
    "papermill": {
     "duration": 0.02504,
     "end_time": "2022-09-17T04:43:11.481369",
     "exception": false,
     "start_time": "2022-09-17T04:43:11.456329",
     "status": "completed"
    },
    "tags": []
   },
   "source": [
    "After applying the model we received the value of 80.2. This is the accuracy value we have achieved from our model that we trained and tested. This value will different for different models."
   ]
  },
  {
   "cell_type": "markdown",
   "id": "e802f790",
   "metadata": {
    "papermill": {
     "duration": 0.025763,
     "end_time": "2022-09-17T04:43:11.532548",
     "exception": false,
     "start_time": "2022-09-17T04:43:11.506785",
     "status": "completed"
    },
    "tags": []
   },
   "source": [
    "# Logistic Regression"
   ]
  },
  {
   "cell_type": "code",
   "execution_count": 38,
   "id": "8d9b9235",
   "metadata": {
    "execution": {
     "iopub.execute_input": "2022-09-17T04:43:11.585927Z",
     "iopub.status.busy": "2022-09-17T04:43:11.585247Z",
     "iopub.status.idle": "2022-09-17T04:43:11.700746Z",
     "shell.execute_reply": "2022-09-17T04:43:11.699337Z"
    },
    "papermill": {
     "duration": 0.145457,
     "end_time": "2022-09-17T04:43:11.703430",
     "exception": false,
     "start_time": "2022-09-17T04:43:11.557973",
     "status": "completed"
    },
    "tags": []
   },
   "outputs": [
    {
     "name": "stdout",
     "output_type": "stream",
     "text": [
      "79.19\n"
     ]
    }
   ],
   "source": [
    "from sklearn.linear_model import LogisticRegression\n",
    "logreg = LogisticRegression()\n",
    "logreg.fit(x_train, y_train)\n",
    "y_pred = logreg.predict(x_val)\n",
    "acc_logreg = round(accuracy_score(y_pred , y_val)*100 , 2)\n",
    "print(acc_logreg)"
   ]
  },
  {
   "cell_type": "markdown",
   "id": "a29726bb",
   "metadata": {
    "papermill": {
     "duration": 0.02508,
     "end_time": "2022-09-17T04:43:11.754038",
     "exception": false,
     "start_time": "2022-09-17T04:43:11.728958",
     "status": "completed"
    },
    "tags": []
   },
   "source": [
    "# Support Vector Machines"
   ]
  },
  {
   "cell_type": "code",
   "execution_count": 39,
   "id": "d12eb13e",
   "metadata": {
    "execution": {
     "iopub.execute_input": "2022-09-17T04:43:11.807237Z",
     "iopub.status.busy": "2022-09-17T04:43:11.806849Z",
     "iopub.status.idle": "2022-09-17T04:43:11.845301Z",
     "shell.execute_reply": "2022-09-17T04:43:11.844052Z"
    },
    "papermill": {
     "duration": 0.067699,
     "end_time": "2022-09-17T04:43:11.847788",
     "exception": false,
     "start_time": "2022-09-17T04:43:11.780089",
     "status": "completed"
    },
    "tags": []
   },
   "outputs": [
    {
     "name": "stdout",
     "output_type": "stream",
     "text": [
      "81.22\n"
     ]
    }
   ],
   "source": [
    "\n",
    "from sklearn.svm import SVC\n",
    "svc = SVC()\n",
    "svc.fit(x_train, y_train)\n",
    "y_pred = svc.predict(x_val)\n",
    "acc_svc = round(accuracy_score(y_pred, y_val)*100,2)\n",
    "print(acc_svc)"
   ]
  },
  {
   "cell_type": "markdown",
   "id": "0c493921",
   "metadata": {
    "papermill": {
     "duration": 0.025404,
     "end_time": "2022-09-17T04:43:11.898716",
     "exception": false,
     "start_time": "2022-09-17T04:43:11.873312",
     "status": "completed"
    },
    "tags": []
   },
   "source": [
    "# Perceptron"
   ]
  },
  {
   "cell_type": "code",
   "execution_count": 40,
   "id": "428040fe",
   "metadata": {
    "execution": {
     "iopub.execute_input": "2022-09-17T04:43:11.952314Z",
     "iopub.status.busy": "2022-09-17T04:43:11.951882Z",
     "iopub.status.idle": "2022-09-17T04:43:11.965306Z",
     "shell.execute_reply": "2022-09-17T04:43:11.963818Z"
    },
    "papermill": {
     "duration": 0.043437,
     "end_time": "2022-09-17T04:43:11.968218",
     "exception": false,
     "start_time": "2022-09-17T04:43:11.924781",
     "status": "completed"
    },
    "tags": []
   },
   "outputs": [
    {
     "name": "stdout",
     "output_type": "stream",
     "text": [
      "74.11\n"
     ]
    }
   ],
   "source": [
    "from sklearn.linear_model import Perceptron\n",
    "perceptron = Perceptron()\n",
    "perceptron.fit(x_train, y_train)\n",
    "y_pred = perceptron.predict(x_val)\n",
    "acc_perceptron = round(accuracy_score(y_pred, y_val)*100,2)\n",
    "print(acc_perceptron)"
   ]
  },
  {
   "cell_type": "markdown",
   "id": "de1a6428",
   "metadata": {
    "papermill": {
     "duration": 0.02583,
     "end_time": "2022-09-17T04:43:12.020940",
     "exception": false,
     "start_time": "2022-09-17T04:43:11.995110",
     "status": "completed"
    },
    "tags": []
   },
   "source": [
    "# Decision Tree"
   ]
  },
  {
   "cell_type": "code",
   "execution_count": 41,
   "id": "0891ed70",
   "metadata": {
    "execution": {
     "iopub.execute_input": "2022-09-17T04:43:12.074327Z",
     "iopub.status.busy": "2022-09-17T04:43:12.073937Z",
     "iopub.status.idle": "2022-09-17T04:43:12.167140Z",
     "shell.execute_reply": "2022-09-17T04:43:12.165601Z"
    },
    "papermill": {
     "duration": 0.122586,
     "end_time": "2022-09-17T04:43:12.169738",
     "exception": false,
     "start_time": "2022-09-17T04:43:12.047152",
     "status": "completed"
    },
    "tags": []
   },
   "outputs": [
    {
     "name": "stdout",
     "output_type": "stream",
     "text": [
      "82.74\n"
     ]
    }
   ],
   "source": [
    "from sklearn.tree import DecisionTreeClassifier\n",
    "decisiontree = DecisionTreeClassifier()\n",
    "decisiontree.fit(x_train, y_train)\n",
    "y_pred = decisiontree.predict(x_val)\n",
    "acc_decisiontree= round(accuracy_score(y_pred,y_val)*100,2)\n",
    "print(acc_decisiontree)"
   ]
  },
  {
   "cell_type": "markdown",
   "id": "44cc5117",
   "metadata": {
    "papermill": {
     "duration": 0.026379,
     "end_time": "2022-09-17T04:43:12.222076",
     "exception": false,
     "start_time": "2022-09-17T04:43:12.195697",
     "status": "completed"
    },
    "tags": []
   },
   "source": [
    "# Random Forest"
   ]
  },
  {
   "cell_type": "code",
   "execution_count": 42,
   "id": "d545463f",
   "metadata": {
    "execution": {
     "iopub.execute_input": "2022-09-17T04:43:12.275564Z",
     "iopub.status.busy": "2022-09-17T04:43:12.275180Z",
     "iopub.status.idle": "2022-09-17T04:43:12.544658Z",
     "shell.execute_reply": "2022-09-17T04:43:12.542968Z"
    },
    "papermill": {
     "duration": 0.299638,
     "end_time": "2022-09-17T04:43:12.547376",
     "exception": false,
     "start_time": "2022-09-17T04:43:12.247738",
     "status": "completed"
    },
    "tags": []
   },
   "outputs": [
    {
     "name": "stdout",
     "output_type": "stream",
     "text": [
      "84.26\n"
     ]
    }
   ],
   "source": [
    "from sklearn.ensemble import RandomForestClassifier\n",
    "randomforest = RandomForestClassifier()\n",
    "randomforest.fit(x_train,y_train)\n",
    "y_pred = randomforest.predict(x_val)\n",
    "acc_randomforest = round(accuracy_score(y_pred, y_val)*100,2)\n",
    "print(acc_randomforest)"
   ]
  },
  {
   "cell_type": "markdown",
   "id": "bb9b72a8",
   "metadata": {
    "papermill": {
     "duration": 0.025448,
     "end_time": "2022-09-17T04:43:12.598920",
     "exception": false,
     "start_time": "2022-09-17T04:43:12.573472",
     "status": "completed"
    },
    "tags": []
   },
   "source": [
    "# KNN or K - Nearest Neighbors"
   ]
  },
  {
   "cell_type": "code",
   "execution_count": 43,
   "id": "87c5f942",
   "metadata": {
    "execution": {
     "iopub.execute_input": "2022-09-17T04:43:12.652747Z",
     "iopub.status.busy": "2022-09-17T04:43:12.652341Z",
     "iopub.status.idle": "2022-09-17T04:43:12.672915Z",
     "shell.execute_reply": "2022-09-17T04:43:12.671381Z"
    },
    "papermill": {
     "duration": 0.051206,
     "end_time": "2022-09-17T04:43:12.676181",
     "exception": false,
     "start_time": "2022-09-17T04:43:12.624975",
     "status": "completed"
    },
    "tags": []
   },
   "outputs": [
    {
     "name": "stdout",
     "output_type": "stream",
     "text": [
      "84.26\n"
     ]
    }
   ],
   "source": [
    "from sklearn.neighbors import KNeighborsClassifier\n",
    "knn = KNeighborsClassifier()\n",
    "knn.fit(x_train, y_train)\n",
    "y_ped = knn.predict(x_val)\n",
    "acc_knn = round (accuracy_score(y_pred, y_val)*100,2)\n",
    "print(acc_knn)\n"
   ]
  },
  {
   "cell_type": "markdown",
   "id": "e83690dd",
   "metadata": {
    "papermill": {
     "duration": 0.025314,
     "end_time": "2022-09-17T04:43:12.727942",
     "exception": false,
     "start_time": "2022-09-17T04:43:12.702628",
     "status": "completed"
    },
    "tags": []
   },
   "source": [
    "# Stochastic Gradient Descent"
   ]
  },
  {
   "cell_type": "code",
   "execution_count": 44,
   "id": "b4adf787",
   "metadata": {
    "execution": {
     "iopub.execute_input": "2022-09-17T04:43:12.782409Z",
     "iopub.status.busy": "2022-09-17T04:43:12.782014Z",
     "iopub.status.idle": "2022-09-17T04:43:12.798621Z",
     "shell.execute_reply": "2022-09-17T04:43:12.797199Z"
    },
    "papermill": {
     "duration": 0.047123,
     "end_time": "2022-09-17T04:43:12.801067",
     "exception": false,
     "start_time": "2022-09-17T04:43:12.753944",
     "status": "completed"
    },
    "tags": []
   },
   "outputs": [
    {
     "name": "stdout",
     "output_type": "stream",
     "text": [
      "76.65\n"
     ]
    }
   ],
   "source": [
    "from sklearn.linear_model import SGDClassifier\n",
    "sgd = SGDClassifier()\n",
    "sgd.fit(x_train,y_train)\n",
    "y_pred = sgd.predict(x_val)\n",
    "acc_sgd = round(accuracy_score(y_pred,y_val)*100,2)\n",
    "print(acc_sgd)"
   ]
  },
  {
   "cell_type": "markdown",
   "id": "90cb05fc",
   "metadata": {
    "papermill": {
     "duration": 0.025824,
     "end_time": "2022-09-17T04:43:12.852733",
     "exception": false,
     "start_time": "2022-09-17T04:43:12.826909",
     "status": "completed"
    },
    "tags": []
   },
   "source": [
    "# Gradient Boosting Classifier"
   ]
  },
  {
   "cell_type": "code",
   "execution_count": 45,
   "id": "0c10f227",
   "metadata": {
    "execution": {
     "iopub.execute_input": "2022-09-17T04:43:12.907348Z",
     "iopub.status.busy": "2022-09-17T04:43:12.906921Z",
     "iopub.status.idle": "2022-09-17T04:43:13.001215Z",
     "shell.execute_reply": "2022-09-17T04:43:13.000290Z"
    },
    "papermill": {
     "duration": 0.123981,
     "end_time": "2022-09-17T04:43:13.003507",
     "exception": false,
     "start_time": "2022-09-17T04:43:12.879526",
     "status": "completed"
    },
    "tags": []
   },
   "outputs": [
    {
     "name": "stdout",
     "output_type": "stream",
     "text": [
      "83.25\n"
     ]
    }
   ],
   "source": [
    "from sklearn.ensemble import GradientBoostingClassifier\n",
    "gbc = GradientBoostingClassifier()\n",
    "gbc.fit(x_train,y_train)\n",
    "y_pred = gbc.predict(x_val)\n",
    "acc_gbc = round(accuracy_score(y_pred, y_val)*100,2)\n",
    "print(acc_gbc)"
   ]
  },
  {
   "cell_type": "markdown",
   "id": "4d4295c1",
   "metadata": {
    "papermill": {
     "duration": 0.026155,
     "end_time": "2022-09-17T04:43:13.055693",
     "exception": false,
     "start_time": "2022-09-17T04:43:13.029538",
     "status": "completed"
    },
    "tags": []
   },
   "source": [
    "We have tested our models and received the accuracy values. Now let's compare these accuracy scores."
   ]
  },
  {
   "cell_type": "code",
   "execution_count": 46,
   "id": "77c1f435",
   "metadata": {
    "execution": {
     "iopub.execute_input": "2022-09-17T04:43:13.110212Z",
     "iopub.status.busy": "2022-09-17T04:43:13.109063Z",
     "iopub.status.idle": "2022-09-17T04:43:13.123454Z",
     "shell.execute_reply": "2022-09-17T04:43:13.122340Z"
    },
    "papermill": {
     "duration": 0.044182,
     "end_time": "2022-09-17T04:43:13.125944",
     "exception": false,
     "start_time": "2022-09-17T04:43:13.081762",
     "status": "completed"
    },
    "tags": []
   },
   "outputs": [
    {
     "data": {
      "text/html": [
       "<div>\n",
       "<style scoped>\n",
       "    .dataframe tbody tr th:only-of-type {\n",
       "        vertical-align: middle;\n",
       "    }\n",
       "\n",
       "    .dataframe tbody tr th {\n",
       "        vertical-align: top;\n",
       "    }\n",
       "\n",
       "    .dataframe thead th {\n",
       "        text-align: right;\n",
       "    }\n",
       "</style>\n",
       "<table border=\"1\" class=\"dataframe\">\n",
       "  <thead>\n",
       "    <tr style=\"text-align: right;\">\n",
       "      <th></th>\n",
       "      <th>Model</th>\n",
       "      <th>Score</th>\n",
       "    </tr>\n",
       "  </thead>\n",
       "  <tbody>\n",
       "    <tr>\n",
       "      <th>3</th>\n",
       "      <td>Perceptron</td>\n",
       "      <td>74.11</td>\n",
       "    </tr>\n",
       "    <tr>\n",
       "      <th>7</th>\n",
       "      <td>Stochastic Gradient Descent</td>\n",
       "      <td>76.65</td>\n",
       "    </tr>\n",
       "    <tr>\n",
       "      <th>1</th>\n",
       "      <td>Logistic Regression</td>\n",
       "      <td>79.19</td>\n",
       "    </tr>\n",
       "    <tr>\n",
       "      <th>0</th>\n",
       "      <td>Gaussian Naive Bayes</td>\n",
       "      <td>80.20</td>\n",
       "    </tr>\n",
       "    <tr>\n",
       "      <th>2</th>\n",
       "      <td>Support Vector Machines</td>\n",
       "      <td>81.22</td>\n",
       "    </tr>\n",
       "    <tr>\n",
       "      <th>4</th>\n",
       "      <td>Decision Tree</td>\n",
       "      <td>82.74</td>\n",
       "    </tr>\n",
       "    <tr>\n",
       "      <th>8</th>\n",
       "      <td>Gradient Boosting Classifier</td>\n",
       "      <td>83.25</td>\n",
       "    </tr>\n",
       "    <tr>\n",
       "      <th>5</th>\n",
       "      <td>Random Forest</td>\n",
       "      <td>84.26</td>\n",
       "    </tr>\n",
       "    <tr>\n",
       "      <th>6</th>\n",
       "      <td>KNN or K - Nearest Neighbors</td>\n",
       "      <td>84.26</td>\n",
       "    </tr>\n",
       "  </tbody>\n",
       "</table>\n",
       "</div>"
      ],
      "text/plain": [
       "                          Model  Score\n",
       "3                    Perceptron  74.11\n",
       "7   Stochastic Gradient Descent  76.65\n",
       "1           Logistic Regression  79.19\n",
       "0          Gaussian Naive Bayes  80.20\n",
       "2       Support Vector Machines  81.22\n",
       "4                 Decision Tree  82.74\n",
       "8  Gradient Boosting Classifier  83.25\n",
       "5                 Random Forest  84.26\n",
       "6  KNN or K - Nearest Neighbors  84.26"
      ]
     },
     "execution_count": 46,
     "metadata": {},
     "output_type": "execute_result"
    }
   ],
   "source": [
    "models = pd.DataFrame({ 'Model' : ['Gaussian Naive Bayes' , 'Logistic Regression' , 'Support Vector Machines' , 'Perceptron' ,\n",
    "                                  'Decision Tree' , 'Random Forest' , 'KNN or K - Nearest Neighbors' , 'Stochastic Gradient Descent' , \n",
    "                                   'Gradient Boosting Classifier'],\n",
    "                      \n",
    "                      'Score' : [acc_gaussian , acc_logreg , acc_svc , acc_perceptron , acc_decisiontree ,  acc_randomforest , \n",
    "                                acc_knn , acc_sgd , acc_gbc ]})\n",
    "\n",
    "models.sort_values(by = 'Score' )"
   ]
  },
  {
   "cell_type": "markdown",
   "id": "3076e515",
   "metadata": {
    "papermill": {
     "duration": 0.027483,
     "end_time": "2022-09-17T04:43:13.179572",
     "exception": false,
     "start_time": "2022-09-17T04:43:13.152089",
     "status": "completed"
    },
    "tags": []
   },
   "source": [
    "We can see in the above table that we recieved the least accuracy score in the Perceptron model while we received the highest accuracy score in the Gradient Boosting Classifier. Therefore we can say that Gradient Boosting Classifier is the best model for predicting the survivors. \n"
   ]
  },
  {
   "cell_type": "markdown",
   "id": "624a2439",
   "metadata": {
    "papermill": {
     "duration": 0.026999,
     "end_time": "2022-09-17T04:43:13.233045",
     "exception": false,
     "start_time": "2022-09-17T04:43:13.206046",
     "status": "completed"
    },
    "tags": []
   },
   "source": [
    "# 8.) Our Predictions\n",
    "\n",
    "Now we will see what we have predicted so far."
   ]
  },
  {
   "cell_type": "code",
   "execution_count": 47,
   "id": "b03bc503",
   "metadata": {
    "execution": {
     "iopub.execute_input": "2022-09-17T04:43:13.288481Z",
     "iopub.status.busy": "2022-09-17T04:43:13.288064Z",
     "iopub.status.idle": "2022-09-17T04:43:13.299765Z",
     "shell.execute_reply": "2022-09-17T04:43:13.298592Z"
    },
    "papermill": {
     "duration": 0.042249,
     "end_time": "2022-09-17T04:43:13.302363",
     "exception": false,
     "start_time": "2022-09-17T04:43:13.260114",
     "status": "completed"
    },
    "tags": []
   },
   "outputs": [],
   "source": [
    "# Setting PassengerId as Pid and Survived as Predictions\n",
    "Pid = test_data[\"PassengerId\"]\n",
    "Predictions = gbc.predict(test_data.drop('AgeGroup',axis=1))\n",
    "\n",
    "#converting the output to a dataframe\n",
    "output = pd.DataFrame({'PassengerId': Pid , 'Survived': Predictions})"
   ]
  },
  {
   "cell_type": "code",
   "execution_count": 48,
   "id": "679df1e7",
   "metadata": {
    "execution": {
     "iopub.execute_input": "2022-09-17T04:43:13.360693Z",
     "iopub.status.busy": "2022-09-17T04:43:13.359439Z",
     "iopub.status.idle": "2022-09-17T04:43:13.369168Z",
     "shell.execute_reply": "2022-09-17T04:43:13.368249Z"
    },
    "papermill": {
     "duration": 0.040651,
     "end_time": "2022-09-17T04:43:13.371419",
     "exception": false,
     "start_time": "2022-09-17T04:43:13.330768",
     "status": "completed"
    },
    "tags": []
   },
   "outputs": [
    {
     "data": {
      "text/html": [
       "<div>\n",
       "<style scoped>\n",
       "    .dataframe tbody tr th:only-of-type {\n",
       "        vertical-align: middle;\n",
       "    }\n",
       "\n",
       "    .dataframe tbody tr th {\n",
       "        vertical-align: top;\n",
       "    }\n",
       "\n",
       "    .dataframe thead th {\n",
       "        text-align: right;\n",
       "    }\n",
       "</style>\n",
       "<table border=\"1\" class=\"dataframe\">\n",
       "  <thead>\n",
       "    <tr style=\"text-align: right;\">\n",
       "      <th></th>\n",
       "      <th>PassengerId</th>\n",
       "      <th>Survived</th>\n",
       "    </tr>\n",
       "  </thead>\n",
       "  <tbody>\n",
       "    <tr>\n",
       "      <th>0</th>\n",
       "      <td>892</td>\n",
       "      <td>1</td>\n",
       "    </tr>\n",
       "    <tr>\n",
       "      <th>1</th>\n",
       "      <td>893</td>\n",
       "      <td>1</td>\n",
       "    </tr>\n",
       "    <tr>\n",
       "      <th>2</th>\n",
       "      <td>894</td>\n",
       "      <td>1</td>\n",
       "    </tr>\n",
       "    <tr>\n",
       "      <th>3</th>\n",
       "      <td>895</td>\n",
       "      <td>1</td>\n",
       "    </tr>\n",
       "    <tr>\n",
       "      <th>4</th>\n",
       "      <td>896</td>\n",
       "      <td>1</td>\n",
       "    </tr>\n",
       "  </tbody>\n",
       "</table>\n",
       "</div>"
      ],
      "text/plain": [
       "   PassengerId  Survived\n",
       "0          892         1\n",
       "1          893         1\n",
       "2          894         1\n",
       "3          895         1\n",
       "4          896         1"
      ]
     },
     "execution_count": 48,
     "metadata": {},
     "output_type": "execute_result"
    }
   ],
   "source": [
    "output.head()"
   ]
  },
  {
   "cell_type": "markdown",
   "id": "26e0e70b",
   "metadata": {
    "papermill": {
     "duration": 0.025899,
     "end_time": "2022-09-17T04:43:13.424116",
     "exception": false,
     "start_time": "2022-09-17T04:43:13.398217",
     "status": "completed"
    },
    "tags": []
   },
   "source": [
    "We can see that our model is predicting whether a passenger will survive or not. I created output data frame as per the rules of the competition with 'PassengerId' and \"Survived' as two columns. Now we will submit our data."
   ]
  },
  {
   "cell_type": "markdown",
   "id": "afdfc35e",
   "metadata": {
    "papermill": {
     "duration": 0.026592,
     "end_time": "2022-09-17T04:43:13.476847",
     "exception": false,
     "start_time": "2022-09-17T04:43:13.450255",
     "status": "completed"
    },
    "tags": []
   },
   "source": [
    "# 9.) Submitting our Predictions"
   ]
  },
  {
   "cell_type": "code",
   "execution_count": 49,
   "id": "225163d5",
   "metadata": {
    "execution": {
     "iopub.execute_input": "2022-09-17T04:43:13.531657Z",
     "iopub.status.busy": "2022-09-17T04:43:13.530958Z",
     "iopub.status.idle": "2022-09-17T04:43:13.538381Z",
     "shell.execute_reply": "2022-09-17T04:43:13.537624Z"
    },
    "papermill": {
     "duration": 0.037452,
     "end_time": "2022-09-17T04:43:13.540607",
     "exception": false,
     "start_time": "2022-09-17T04:43:13.503155",
     "status": "completed"
    },
    "tags": []
   },
   "outputs": [],
   "source": [
    "# submitting output dataframe\n",
    "output.to_csv('submission.csv' , index = False)"
   ]
  },
  {
   "cell_type": "markdown",
   "id": "14e32c33",
   "metadata": {
    "papermill": {
     "duration": 0.026165,
     "end_time": "2022-09-17T04:43:13.593069",
     "exception": false,
     "start_time": "2022-09-17T04:43:13.566904",
     "status": "completed"
    },
    "tags": []
   },
   "source": [
    "Thank you for reading my code. If you find it useful please give an upvote it will motivate me to write more valuable codes.\n",
    "\n",
    "Let's Learn Data Science Together.\n",
    "\n",
    "Thank You\n",
    "\n"
   ]
  },
  {
   "cell_type": "markdown",
   "id": "1fb29e2c",
   "metadata": {
    "papermill": {
     "duration": 0.025981,
     "end_time": "2022-09-17T04:43:13.711127",
     "exception": false,
     "start_time": "2022-09-17T04:43:13.685146",
     "status": "completed"
    },
    "tags": []
   },
   "source": [
    "**References** \n",
    "\n",
    "* https://www.kaggle.com/startupsci/titanic-data-science-solutions"
   ]
  }
 ],
 "metadata": {
  "kernelspec": {
   "display_name": "Python 3",
   "language": "python",
   "name": "python3"
  },
  "language_info": {
   "codemirror_mode": {
    "name": "ipython",
    "version": 3
   },
   "file_extension": ".py",
   "mimetype": "text/x-python",
   "name": "python",
   "nbconvert_exporter": "python",
   "pygments_lexer": "ipython3",
   "version": "3.7.12"
  },
  "papermill": {
   "default_parameters": {},
   "duration": 20.367579,
   "end_time": "2022-09-17T04:43:14.566509",
   "environment_variables": {},
   "exception": null,
   "input_path": "__notebook__.ipynb",
   "output_path": "__notebook__.ipynb",
   "parameters": {},
   "start_time": "2022-09-17T04:42:54.198930",
   "version": "2.3.4"
  }
 },
 "nbformat": 4,
 "nbformat_minor": 5
}
